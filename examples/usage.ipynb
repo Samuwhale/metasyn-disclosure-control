{
 "cells": [
  {
   "attachments": {},
   "cell_type": "markdown",
   "id": "f5c6597b",
   "metadata": {},
   "source": [
    "# Tutorial on metasyn-disclosure\n",
    "\n",
    "In this tutorial, we will show how to use the metasyn disclosure control plugin to enhance the privacy of generative metadata (MetaFrames and exported GMF files). \n",
    "\n",
    "This tutorial assumes you are familiar with the basic workflow of `metasyn`,  if you're not, please first check out our [metasyn tutorials](https://metasynth.readthedocs.io/en/latest/usage/interactive_tutorials.html)."
   ]
  },
  {
   "metadata": {},
   "cell_type": "markdown",
   "source": "## Setup",
   "id": "9331a97659ed0651"
  },
  {
   "metadata": {},
   "cell_type": "markdown",
   "source": [
    "### Installation\n",
    "The first step is to install the metasyn-disclosure package, this can be done by uncommenting the following line and running it."
   ],
   "id": "9fa7e4e2cb31bd03"
  },
  {
   "metadata": {
    "ExecuteTime": {
     "end_time": "2024-06-24T12:03:21.719496Z",
     "start_time": "2024-06-24T12:03:21.717768Z"
    }
   },
   "cell_type": "code",
   "source": "# !pip install git+https://github.com/sodascience/metasyn-disclosure-control.git",
   "id": "900fcc461b174a03",
   "outputs": [],
   "execution_count": 48
  },
  {
   "metadata": {},
   "cell_type": "markdown",
   "source": [
    "### Importing Packages\n",
    "Then we import the necessary packages."
   ],
   "id": "12a71db750f8cd62"
  },
  {
   "metadata": {
    "ExecuteTime": {
     "end_time": "2024-06-24T12:03:21.743702Z",
     "start_time": "2024-06-24T12:03:21.741654Z"
    }
   },
   "cell_type": "code",
   "source": [
    "import polars as pl\n",
    "from metasyn import MetaFrame, demo_dataframe\n",
    "from metasyn.distribution import (\n",
    "    DiscreteUniformDistribution,\n",
    "    FakerDistribution,\n",
    "    RegexDistribution,\n",
    ")\n",
    "\n",
    "from metasyncontrib.disclosure import DisclosurePrivacy"
   ],
   "id": "2442cb34",
   "outputs": [],
   "execution_count": 49
  },
  {
   "attachments": {},
   "cell_type": "markdown",
   "id": "04466c26",
   "metadata": {},
   "source": [
    "### Loading the dataset\n",
    "\n",
    "The first step in creating the metadata is reading and converting your dataset to a polars DataFrame. For this tutorial, we will use the demo DataFrame provided by metasyn.  "
   ]
  },
  {
   "cell_type": "code",
   "id": "3c2a44b7",
   "metadata": {
    "ExecuteTime": {
     "end_time": "2024-06-24T12:03:21.749782Z",
     "start_time": "2024-06-24T12:03:21.744805Z"
    }
   },
   "source": [
    "df = demo_dataframe('titanic') # preconfigured Polars DataFrame based on the Titanic dataset\n",
    "df.head()"
   ],
   "outputs": [
    {
     "data": {
      "text/plain": [
       "shape: (5, 13)\n",
       "┌─────────────┬───────────────┬────────┬─────┬───┬────────────┬────────────┬──────────────┬────────┐\n",
       "│ PassengerId ┆ Name          ┆ Sex    ┆ Age ┆ … ┆ Birthday   ┆ Board time ┆ Married      ┆ all_NA │\n",
       "│ ---         ┆ ---           ┆ ---    ┆ --- ┆   ┆ ---        ┆ ---        ┆ since        ┆ ---    │\n",
       "│ i64         ┆ str           ┆ cat    ┆ i64 ┆   ┆ date       ┆ time       ┆ ---          ┆ str    │\n",
       "│             ┆               ┆        ┆     ┆   ┆            ┆            ┆ datetime[μs] ┆        │\n",
       "╞═════════════╪═══════════════╪════════╪═════╪═══╪════════════╪════════════╪══════════════╪════════╡\n",
       "│ 1           ┆ Braund, Mr.   ┆ male   ┆ 22  ┆ … ┆ 1937-10-28 ┆ 15:53:04   ┆ 2022-08-05   ┆ null   │\n",
       "│             ┆ Owen Harris   ┆        ┆     ┆   ┆            ┆            ┆ 04:43:34     ┆        │\n",
       "│ 2           ┆ Cumings, Mrs. ┆ female ┆ 38  ┆ … ┆ null       ┆ 12:26:00   ┆ 2022-08-07   ┆ null   │\n",
       "│             ┆ John Bradley  ┆        ┆     ┆   ┆            ┆            ┆ 01:56:33     ┆        │\n",
       "│             ┆ (Fl…          ┆        ┆     ┆   ┆            ┆            ┆              ┆        │\n",
       "│ 3           ┆ Heikkinen,    ┆ female ┆ 26  ┆ … ┆ 1931-09-24 ┆ 16:08:25   ┆ 2022-08-04   ┆ null   │\n",
       "│             ┆ Miss. Laina   ┆        ┆     ┆   ┆            ┆            ┆ 20:27:37     ┆        │\n",
       "│ 4           ┆ Futrelle,     ┆ female ┆ 35  ┆ … ┆ 1936-11-30 ┆ null       ┆ 2022-08-07   ┆ null   │\n",
       "│             ┆ Mrs. Jacques  ┆        ┆     ┆   ┆            ┆            ┆ 07:05:55     ┆        │\n",
       "│             ┆ Heath (…      ┆        ┆     ┆   ┆            ┆            ┆              ┆        │\n",
       "│ 5           ┆ Allen, Mr.    ┆ male   ┆ 35  ┆ … ┆ 1918-11-07 ┆ 10:59:08   ┆ 2022-08-02   ┆ null   │\n",
       "│             ┆ William Henry ┆        ┆     ┆   ┆            ┆            ┆ 15:13:34     ┆        │\n",
       "└─────────────┴───────────────┴────────┴─────┴───┴────────────┴────────────┴──────────────┴────────┘"
      ],
      "text/html": [
       "<div><style>\n",
       ".dataframe > thead > tr,\n",
       ".dataframe > tbody > tr {\n",
       "  text-align: right;\n",
       "  white-space: pre-wrap;\n",
       "}\n",
       "</style>\n",
       "<small>shape: (5, 13)</small><table border=\"1\" class=\"dataframe\"><thead><tr><th>PassengerId</th><th>Name</th><th>Sex</th><th>Age</th><th>Parch</th><th>Ticket</th><th>Fare</th><th>Cabin</th><th>Embarked</th><th>Birthday</th><th>Board time</th><th>Married since</th><th>all_NA</th></tr><tr><td>i64</td><td>str</td><td>cat</td><td>i64</td><td>i64</td><td>str</td><td>f64</td><td>str</td><td>cat</td><td>date</td><td>time</td><td>datetime[μs]</td><td>str</td></tr></thead><tbody><tr><td>1</td><td>&quot;Braund, Mr. Owen Harris&quot;</td><td>&quot;male&quot;</td><td>22</td><td>0</td><td>&quot;A/5 21171&quot;</td><td>7.25</td><td>null</td><td>&quot;S&quot;</td><td>1937-10-28</td><td>15:53:04</td><td>2022-08-05 04:43:34</td><td>null</td></tr><tr><td>2</td><td>&quot;Cumings, Mrs. John Bradley (Fl…</td><td>&quot;female&quot;</td><td>38</td><td>0</td><td>&quot;PC 17599&quot;</td><td>71.2833</td><td>&quot;C85&quot;</td><td>&quot;C&quot;</td><td>null</td><td>12:26:00</td><td>2022-08-07 01:56:33</td><td>null</td></tr><tr><td>3</td><td>&quot;Heikkinen, Miss. Laina&quot;</td><td>&quot;female&quot;</td><td>26</td><td>0</td><td>&quot;STON/O2. 3101282&quot;</td><td>7.925</td><td>null</td><td>&quot;S&quot;</td><td>1931-09-24</td><td>16:08:25</td><td>2022-08-04 20:27:37</td><td>null</td></tr><tr><td>4</td><td>&quot;Futrelle, Mrs. Jacques Heath (…</td><td>&quot;female&quot;</td><td>35</td><td>0</td><td>&quot;113803&quot;</td><td>53.1</td><td>&quot;C123&quot;</td><td>&quot;S&quot;</td><td>1936-11-30</td><td>null</td><td>2022-08-07 07:05:55</td><td>null</td></tr><tr><td>5</td><td>&quot;Allen, Mr. William Henry&quot;</td><td>&quot;male&quot;</td><td>35</td><td>0</td><td>&quot;373450&quot;</td><td>8.05</td><td>null</td><td>&quot;S&quot;</td><td>1918-11-07</td><td>10:59:08</td><td>2022-08-02 15:13:34</td><td>null</td></tr></tbody></table></div>"
      ]
     },
     "execution_count": 50,
     "metadata": {},
     "output_type": "execute_result"
    }
   ],
   "execution_count": 50
  },
  {
   "attachments": {},
   "cell_type": "markdown",
   "id": "9574a4ab",
   "metadata": {},
   "source": [
    "## Using Disclosure Control\n",
    "\n",
    "First, let's look at what happens when we fit a MetaFrame to the data without the disclosure plugin."
   ]
  },
  {
   "metadata": {},
   "cell_type": "markdown",
   "source": "### Without Disclosure Control",
   "id": "224d648bb3a8ac64"
  },
  {
   "cell_type": "code",
   "id": "b2f5eadd",
   "metadata": {
    "ExecuteTime": {
     "end_time": "2024-06-24T12:03:22.798642Z",
     "start_time": "2024-06-24T12:03:21.750366Z"
    }
   },
   "source": [
    "mf = MetaFrame.fit_dataframe(\n",
    "    df=df,\n",
    ")\n",
    "\n",
    "print(\n",
    "    f\"Original Data vs Generative MetaData (for 'Married since' column):\\n\"\n",
    "    f\"Range in Source DataFrame: {df['Married since'].min()} - {df['Married since'].max()}\\n\"\n",
    "    f\"Range in Fitted MetaFrame: {mf['Married since'].distribution.lower} - {mf['Married since'].distribution.upper}\"\n",
    ")"
   ],
   "outputs": [
    {
     "name": "stderr",
     "output_type": "stream",
     "text": [
      "100%|██████████| 13/13 [00:01<00:00, 12.51it/s]"
     ]
    },
    {
     "name": "stdout",
     "output_type": "stream",
     "text": [
      "Original Data vs Generative MetaData (for 'Married since' column):\n",
      "Range in Source DataFrame: 2022-07-15 12:21:15 - 2022-08-15 10:32:05\n",
      "Range in Fitted MetaFrame: 2022-07-15 12:21:15 - 2022-08-15 10:32:05\n"
     ]
    },
    {
     "name": "stderr",
     "output_type": "stream",
     "text": [
      "\n"
     ]
    }
   ],
   "execution_count": 51
  },
  {
   "attachments": {},
   "cell_type": "markdown",
   "id": "5069e883",
   "metadata": {},
   "source": [
    "As you can see, when comparing the original data to the fitted MetaFrame, we can see that the lower bound of the distribution is equal to the lowest value in the source DataFrame, and the upper bound is equal to the highest value. \n",
    "\n",
    "This means that source data can be easily inferred from the generative metadata.\n"
   ]
  },
  {
   "attachments": {},
   "cell_type": "markdown",
   "id": "2897133c",
   "metadata": {},
   "source": [
    "### With Disclosure Control\n",
    "\n",
    "By using the disclosure plugin, we can prevent this privacy concern. \n",
    "\n",
    "We can opt to use the disclosure plugin for the entire MetaFrame, by setting the `privacy` parameter to `DisclosurePrivacy()` when fitting the MetaFrame. "
   ]
  },
  {
   "metadata": {
    "ExecuteTime": {
     "end_time": "2024-06-24T12:03:23.287536Z",
     "start_time": "2024-06-24T12:03:22.799860Z"
    }
   },
   "cell_type": "code",
   "source": [
    "mf_disclosure = MetaFrame.fit_dataframe(\n",
    "    df=df,\n",
    "    privacy=DisclosurePrivacy(),  # Make the entire MetaFrame use disclosure control\n",
    ")\n",
    "\n",
    "print(\n",
    "    f\"Original Data vs Generative MetaData (for 'Married since' column):\\n\"\n",
    "    f\"Range in Source DataFrame: {df['Married since'].min()} - {df['Married since'].max()}\\n\"\n",
    "    f\"Range in Fitted MetaFrame: {mf_disclosure['Married since'].distribution.lower} - {mf_disclosure['Married since'].distribution.upper}\"\n",
    ")"
   ],
   "id": "281c927137c0db4e",
   "outputs": [
    {
     "name": "stderr",
     "output_type": "stream",
     "text": [
      "100%|██████████| 13/13 [00:00<00:00, 27.05it/s]"
     ]
    },
    {
     "name": "stdout",
     "output_type": "stream",
     "text": [
      "Original Data vs Generative MetaData (for 'Married since' column):\n",
      "Range in Source DataFrame: 2022-07-15 12:21:15 - 2022-08-15 10:32:05\n",
      "Range in Fitted MetaFrame: 2022-07-15 17:12:24 - 2022-08-15 07:56:54\n"
     ]
    },
    {
     "name": "stderr",
     "output_type": "stream",
     "text": [
      "\n"
     ]
    }
   ],
   "execution_count": 52
  },
  {
   "attachments": {},
   "cell_type": "markdown",
   "id": "de3d28eb5f2bb793",
   "metadata": {},
   "source": "As you can see, the disclosure plugin fixes the privacy concern present in the base metasyn package: distribution bounds are no longer equal to the source data. "
  },
  {
   "metadata": {},
   "cell_type": "markdown",
   "source": [
    "### Manually Specifying Distributions\n",
    "However, there still is a problem. The disclosure plugin does not implement every type of distribution that the base metasyn package does. This means, that in cases where a distribution can not be found, the plugin will default to a NA distribution (returning only NA values).\n",
    "We can see this happening if we print the generative metadata, for example, notice how the 'Cabin' column has a NA distribution."
   ],
   "id": "ea8e0833"
  },
  {
   "metadata": {
    "ExecuteTime": {
     "end_time": "2024-06-24T12:03:23.290330Z",
     "start_time": "2024-06-24T12:03:23.288198Z"
    }
   },
   "cell_type": "code",
   "source": "print(mf_disclosure)",
   "id": "7bd78070ae1defa3",
   "outputs": [
    {
     "name": "stdout",
     "output_type": "stream",
     "text": [
      "# Rows: 891\n",
      "# Columns: 13\n",
      "\n",
      "Column 1: \"PassengerId\"\n",
      "- Variable Type: discrete\n",
      "- Data Type: Int64\n",
      "- Proportion of Missing Values: 0.0000\n",
      "- Distribution:\n",
      "\t- Type: core.normal\n",
      "\t- Provenance: metasyn-disclosure\n",
      "\t- Parameters:\n",
      "\t\t- mean: 446.0\n",
      "\t\t- sd: 257.18994277900265\n",
      "\t\n",
      "\n",
      "Column 2: \"Name\"\n",
      "- Variable Type: string\n",
      "- Data Type: String\n",
      "- Proportion of Missing Values: 0.0000\n",
      "- Distribution:\n",
      "\t- Type: core.freetext\n",
      "\t- Provenance: metasyn-disclosure\n",
      "\t- Parameters:\n",
      "\t\t- locale: EN\n",
      "\t\t- avg_sentences: 2.4691358024691357\n",
      "\t\t- avg_words: 4.093153759820426\n",
      "\t\n",
      "\n",
      "Column 3: \"Sex\"\n",
      "- Variable Type: categorical\n",
      "- Data Type: Categorical(ordering='physical')\n",
      "- Proportion of Missing Values: 0.0000\n",
      "- Distribution:\n",
      "\t- Type: core.multinoulli\n",
      "\t- Provenance: metasyn-disclosure\n",
      "\t- Parameters:\n",
      "\t\t- labels: ['female' 'male']\n",
      "\t\t- probs: [0.35241302 0.64758698]\n",
      "\t\n",
      "\n",
      "Column 4: \"Age\"\n",
      "- Variable Type: discrete\n",
      "- Data Type: Int64\n",
      "- Proportion of Missing Values: 0.1987\n",
      "- Distribution:\n",
      "\t- Type: core.normal\n",
      "\t- Provenance: metasyn-disclosure\n",
      "\t- Parameters:\n",
      "\t\t- mean: 29.689655172413794\n",
      "\t\t- sd: 14.624267616854176\n",
      "\t\n",
      "\n",
      "Column 5: \"Parch\"\n",
      "- Variable Type: discrete\n",
      "- Data Type: Int64\n",
      "- Proportion of Missing Values: 0.0000\n",
      "- Distribution:\n",
      "\t- Type: core.multinoulli\n",
      "\t- Provenance: metasyn-disclosure\n",
      "\t- Parameters:\n",
      "\t\t- labels: [0 1 2]\n",
      "\t\t- probs: [0.7739726 0.1347032 0.0913242]\n",
      "\t\n",
      "\n",
      "Column 6: \"Ticket\"\n",
      "- Variable Type: string\n",
      "- Data Type: String\n",
      "- Proportion of Missing Values: 0.0000\n",
      "- Distribution:\n",
      "\t- Type: core.na\n",
      "\t- Provenance: metasyn-disclosure\n",
      "\t- Parameters:\n",
      "\t\n",
      "\t\n",
      "\n",
      "Column 7: \"Fare\"\n",
      "- Variable Type: continuous\n",
      "- Data Type: Float64\n",
      "- Proportion of Missing Values: 0.0000\n",
      "- Distribution:\n",
      "\t- Type: core.exponential\n",
      "\t- Provenance: metasyn-disclosure\n",
      "\t- Parameters:\n",
      "\t\t- rate: 0.031930518147512243\n",
      "\t\n",
      "\n",
      "Column 8: \"Cabin\"\n",
      "- Variable Type: string\n",
      "- Data Type: String\n",
      "- Proportion of Missing Values: 0.7710\n",
      "- Distribution:\n",
      "\t- Type: core.na\n",
      "\t- Provenance: metasyn-disclosure\n",
      "\t- Parameters:\n",
      "\t\n",
      "\t\n",
      "\n",
      "Column 9: \"Embarked\"\n",
      "- Variable Type: categorical\n",
      "- Data Type: Categorical(ordering='physical')\n",
      "- Proportion of Missing Values: 0.0022\n",
      "- Distribution:\n",
      "\t- Type: core.multinoulli\n",
      "\t- Provenance: metasyn-disclosure\n",
      "\t- Parameters:\n",
      "\t\t- labels: ['C' 'Q' 'S']\n",
      "\t\t- probs: [0.18897638 0.08661417 0.72440945]\n",
      "\t\n",
      "\n",
      "Column 10: \"Birthday\"\n",
      "- Variable Type: date\n",
      "- Data Type: Date\n",
      "- Proportion of Missing Values: 0.0875\n",
      "- Distribution:\n",
      "\t- Type: core.uniform\n",
      "\t- Provenance: metasyn-disclosure\n",
      "\t- Parameters:\n",
      "\t\t- lower: 1903-11-03\n",
      "\t\t- upper: 1940-02-24\n",
      "\t\n",
      "\n",
      "Column 11: \"Board time\"\n",
      "- Variable Type: time\n",
      "- Data Type: Time\n",
      "- Proportion of Missing Values: 0.0887\n",
      "- Distribution:\n",
      "\t- Type: core.uniform\n",
      "\t- Provenance: metasyn-disclosure\n",
      "\t- Parameters:\n",
      "\t\t- lower: 10:41:52\n",
      "\t\t- upper: 18:38:18\n",
      "\t\t- precision: seconds\n",
      "\t\n",
      "\n",
      "Column 12: \"Married since\"\n",
      "- Variable Type: datetime\n",
      "- Data Type: Datetime(time_unit='us', time_zone=None)\n",
      "- Proportion of Missing Values: 0.1033\n",
      "- Distribution:\n",
      "\t- Type: core.uniform\n",
      "\t- Provenance: metasyn-disclosure\n",
      "\t- Parameters:\n",
      "\t\t- lower: 2022-07-15T17:12:24\n",
      "\t\t- upper: 2022-08-15T07:56:54\n",
      "\t\t- precision: seconds\n",
      "\t\n",
      "\n",
      "Column 13: \"all_NA\"\n",
      "- Variable Type: string\n",
      "- Data Type: String\n",
      "- Proportion of Missing Values: 1.0000\n",
      "- Distribution:\n",
      "\t- Type: core.na\n",
      "\t- Provenance: builtin\n",
      "\t- Parameters:\n",
      "\t\n",
      "\t\n",
      "\n",
      "\n"
     ]
    }
   ],
   "execution_count": 53
  },
  {
   "metadata": {},
   "cell_type": "markdown",
   "source": "We can fix this by manually specifying the distributions for the variables that the disclosure plugin does not support. For example, we can set the 'Cabin' column to have a regex distribution.",
   "id": "e3dc0c4c1e8d8a9d"
  },
  {
   "metadata": {
    "ExecuteTime": {
     "end_time": "2024-06-24T12:03:23.708762Z",
     "start_time": "2024-06-24T12:03:23.290921Z"
    }
   },
   "cell_type": "code",
   "source": [
    "specs = [\n",
    "    # Specify cabin to have a RegexDistribution\n",
    "    {\"name\": \"Cabin\", \"distribution\": RegexDistribution(r\"[ABCDEF][0-9]{2,3}\")},\n",
    "]\n",
    "\n",
    "mf_disclosure = MetaFrame.fit_dataframe(\n",
    "    df=df,\n",
    "    var_specs=specs, \n",
    "    privacy=DisclosurePrivacy(),  \n",
    ")\n",
    "\n",
    "print(mf_disclosure)\n"
   ],
   "id": "3e9d2d03b4c164a5",
   "outputs": [
    {
     "name": "stderr",
     "output_type": "stream",
     "text": [
      "100%|██████████| 13/13 [00:00<00:00, 31.71it/s]"
     ]
    },
    {
     "name": "stdout",
     "output_type": "stream",
     "text": [
      "# Rows: 891\n",
      "# Columns: 13\n",
      "\n",
      "Column 1: \"PassengerId\"\n",
      "- Variable Type: discrete\n",
      "- Data Type: Int64\n",
      "- Proportion of Missing Values: 0.0000\n",
      "- Distribution:\n",
      "\t- Type: core.normal\n",
      "\t- Provenance: metasyn-disclosure\n",
      "\t- Parameters:\n",
      "\t\t- mean: 446.0\n",
      "\t\t- sd: 257.18994277900265\n",
      "\t\n",
      "\n",
      "Column 2: \"Name\"\n",
      "- Variable Type: string\n",
      "- Data Type: String\n",
      "- Proportion of Missing Values: 0.0000\n",
      "- Distribution:\n",
      "\t- Type: core.freetext\n",
      "\t- Provenance: metasyn-disclosure\n",
      "\t- Parameters:\n",
      "\t\t- locale: EN\n",
      "\t\t- avg_sentences: 2.4691358024691357\n",
      "\t\t- avg_words: 4.093153759820426\n",
      "\t\n",
      "\n",
      "Column 3: \"Sex\"\n",
      "- Variable Type: categorical\n",
      "- Data Type: Categorical(ordering='physical')\n",
      "- Proportion of Missing Values: 0.0000\n",
      "- Distribution:\n",
      "\t- Type: core.multinoulli\n",
      "\t- Provenance: metasyn-disclosure\n",
      "\t- Parameters:\n",
      "\t\t- labels: ['female' 'male']\n",
      "\t\t- probs: [0.35241302 0.64758698]\n",
      "\t\n",
      "\n",
      "Column 4: \"Age\"\n",
      "- Variable Type: discrete\n",
      "- Data Type: Int64\n",
      "- Proportion of Missing Values: 0.1987\n",
      "- Distribution:\n",
      "\t- Type: core.normal\n",
      "\t- Provenance: metasyn-disclosure\n",
      "\t- Parameters:\n",
      "\t\t- mean: 29.689655172413794\n",
      "\t\t- sd: 14.624267616854176\n",
      "\t\n",
      "\n",
      "Column 5: \"Parch\"\n",
      "- Variable Type: discrete\n",
      "- Data Type: Int64\n",
      "- Proportion of Missing Values: 0.0000\n",
      "- Distribution:\n",
      "\t- Type: core.multinoulli\n",
      "\t- Provenance: metasyn-disclosure\n",
      "\t- Parameters:\n",
      "\t\t- labels: [0 1 2]\n",
      "\t\t- probs: [0.7739726 0.1347032 0.0913242]\n",
      "\t\n",
      "\n",
      "Column 6: \"Ticket\"\n",
      "- Variable Type: string\n",
      "- Data Type: String\n",
      "- Proportion of Missing Values: 0.0000\n",
      "- Distribution:\n",
      "\t- Type: core.na\n",
      "\t- Provenance: metasyn-disclosure\n",
      "\t- Parameters:\n",
      "\t\n",
      "\t\n",
      "\n",
      "Column 7: \"Fare\"\n",
      "- Variable Type: continuous\n",
      "- Data Type: Float64\n",
      "- Proportion of Missing Values: 0.0000\n",
      "- Distribution:\n",
      "\t- Type: core.exponential\n",
      "\t- Provenance: metasyn-disclosure\n",
      "\t- Parameters:\n",
      "\t\t- rate: 0.031930518147512243\n",
      "\t\n",
      "\n",
      "Column 8: \"Cabin\"\n",
      "- Variable Type: string\n",
      "- Data Type: String\n",
      "- Proportion of Missing Values: 0.7710\n",
      "- Distribution:\n",
      "\t- Type: core.regex\n",
      "\t- Provenance: builtin\n",
      "\t- Parameters:\n",
      "\t\t- regex: [ABCDEF][0-9]{2,3}\n",
      "\t\n",
      "\n",
      "Column 9: \"Embarked\"\n",
      "- Variable Type: categorical\n",
      "- Data Type: Categorical(ordering='physical')\n",
      "- Proportion of Missing Values: 0.0022\n",
      "- Distribution:\n",
      "\t- Type: core.multinoulli\n",
      "\t- Provenance: metasyn-disclosure\n",
      "\t- Parameters:\n",
      "\t\t- labels: ['C' 'Q' 'S']\n",
      "\t\t- probs: [0.18897638 0.08661417 0.72440945]\n",
      "\t\n",
      "\n",
      "Column 10: \"Birthday\"\n",
      "- Variable Type: date\n",
      "- Data Type: Date\n",
      "- Proportion of Missing Values: 0.0875\n",
      "- Distribution:\n",
      "\t- Type: core.uniform\n",
      "\t- Provenance: metasyn-disclosure\n",
      "\t- Parameters:\n",
      "\t\t- lower: 1903-11-03\n",
      "\t\t- upper: 1940-02-24\n",
      "\t\n",
      "\n",
      "Column 11: \"Board time\"\n",
      "- Variable Type: time\n",
      "- Data Type: Time\n",
      "- Proportion of Missing Values: 0.0887\n",
      "- Distribution:\n",
      "\t- Type: core.uniform\n",
      "\t- Provenance: metasyn-disclosure\n",
      "\t- Parameters:\n",
      "\t\t- lower: 10:41:52\n",
      "\t\t- upper: 18:38:18\n",
      "\t\t- precision: seconds\n",
      "\t\n",
      "\n",
      "Column 12: \"Married since\"\n",
      "- Variable Type: datetime\n",
      "- Data Type: Datetime(time_unit='us', time_zone=None)\n",
      "- Proportion of Missing Values: 0.1033\n",
      "- Distribution:\n",
      "\t- Type: core.uniform\n",
      "\t- Provenance: metasyn-disclosure\n",
      "\t- Parameters:\n",
      "\t\t- lower: 2022-07-15T17:12:24\n",
      "\t\t- upper: 2022-08-15T07:56:54\n",
      "\t\t- precision: seconds\n",
      "\t\n",
      "\n",
      "Column 13: \"all_NA\"\n",
      "- Variable Type: string\n",
      "- Data Type: String\n",
      "- Proportion of Missing Values: 1.0000\n",
      "- Distribution:\n",
      "\t- Type: core.na\n",
      "\t- Provenance: builtin\n",
      "\t- Parameters:\n",
      "\t\n",
      "\t\n",
      "\n",
      "\n"
     ]
    },
    {
     "name": "stderr",
     "output_type": "stream",
     "text": [
      "\n"
     ]
    }
   ],
   "execution_count": 54
  },
  {
   "metadata": {},
   "cell_type": "markdown",
   "source": "As you can see, the 'Cabin' column now has a RegexDistribution, and is no longer NA.",
   "id": "a90d9627fb54fe39"
  },
  {
   "metadata": {},
   "cell_type": "markdown",
   "source": "## Privacy Control for Individual Columns",
   "id": "9c42a00cc48d4f05"
  },
  {
   "metadata": {},
   "cell_type": "markdown",
   "source": [
    "Instead of using disclosure control for the entire MetaFrame, we can also use it for individual columns.  This way, other columns (which might not be supported by the disclosure plugin) can still use the base metasyn distributions.\n",
    "\n",
    "To do so, we have to specify the `privacy` parameter for the variable in the variable specification.\n",
    "\n",
    "We can do this as follows:"
   ],
   "id": "a45c6d62f78366"
  },
  {
   "metadata": {
    "ExecuteTime": {
     "end_time": "2024-06-24T12:03:23.711150Z",
     "start_time": "2024-06-24T12:03:23.709466Z"
    }
   },
   "cell_type": "code",
   "source": [
    "specs_disclosure = [\n",
    "    # Use disclosure control for the 'Married since' column\n",
    "    {\"name\": \"Married since\", \"privacy\": DisclosurePrivacy()}\n",
    "]"
   ],
   "id": "4fdfa80d33117e5e",
   "outputs": [],
   "execution_count": 55
  },
  {
   "metadata": {},
   "cell_type": "markdown",
   "source": [
    "Then, when fitting the MetaFrame, we have to specify the `dist_providers` parameter to include both the \"builtin\" distributions, as well as the diclosure variations. \n",
    "We have to include them both because otherwise the distributions not specified in the var_spec to use the disclosure plugin will give an error. "
   ],
   "id": "a9164491eb00cdd4"
  },
  {
   "metadata": {
    "ExecuteTime": {
     "end_time": "2024-06-24T12:03:24.840284Z",
     "start_time": "2024-06-24T12:03:23.711733Z"
    }
   },
   "cell_type": "code",
   "source": [
    "mf_disclosure_alt = MetaFrame.fit_dataframe(\n",
    "    df=df,\n",
    "    var_specs=specs_disclosure,\n",
    ")\n",
    "\n",
    "print(\n",
    "    f\"Original Data vs Generative MetaData (for 'Married since' column):\\n\"\n",
    "    f\"Range in Source DataFrame: {df['Married since'].min()} - {df['Married since'].max()}\\n\"\n",
    "    f\"Range in Fitted MetaFrame: {mf_disclosure_alt['Married since'].distribution.lower} - {mf_disclosure_alt['Married since'].distribution.upper}\"\n",
    ")\n",
    "\n",
    "mf_disclosure_alt.synthesize(5)"
   ],
   "id": "b891be4dd4d13597",
   "outputs": [
    {
     "name": "stderr",
     "output_type": "stream",
     "text": [
      "100%|██████████| 13/13 [00:01<00:00, 11.69it/s]"
     ]
    },
    {
     "name": "stdout",
     "output_type": "stream",
     "text": [
      "Original Data vs Generative MetaData (for 'Married since' column):\n",
      "Range in Source DataFrame: 2022-07-15 12:21:15 - 2022-08-15 10:32:05\n",
      "Range in Fitted MetaFrame: 2022-07-15 17:12:24 - 2022-08-15 07:56:54\n"
     ]
    },
    {
     "name": "stderr",
     "output_type": "stream",
     "text": [
      "\n"
     ]
    },
    {
     "data": {
      "text/plain": [
       "shape: (5, 13)\n",
       "┌─────────────┬──────────────┬────────┬──────┬───┬────────────┬────────────┬──────────────┬────────┐\n",
       "│ PassengerId ┆ Name         ┆ Sex    ┆ Age  ┆ … ┆ Birthday   ┆ Board time ┆ Married      ┆ all_NA │\n",
       "│ ---         ┆ ---          ┆ ---    ┆ ---  ┆   ┆ ---        ┆ ---        ┆ since        ┆ ---    │\n",
       "│ i64         ┆ str          ┆ cat    ┆ i64  ┆   ┆ date       ┆ time       ┆ ---          ┆ null   │\n",
       "│             ┆              ┆        ┆      ┆   ┆            ┆            ┆ datetime[μs] ┆        │\n",
       "╞═════════════╪══════════════╪════════╪══════╪═══╪════════════╪════════════╪══════════════╪════════╡\n",
       "│ 21          ┆ Protect      ┆ female ┆ null ┆ … ┆ 1924-10-18 ┆ 18:21:29   ┆ 2022-07-19   ┆ null   │\n",
       "│             ┆ through.     ┆        ┆      ┆   ┆            ┆            ┆ 09:26:51     ┆        │\n",
       "│             ┆ Near school. ┆        ┆      ┆   ┆            ┆            ┆              ┆        │\n",
       "│ 168         ┆ Study.       ┆ male   ┆ 43   ┆ … ┆ 1904-06-30 ┆ 18:12:55   ┆ 2022-08-05   ┆ null   │\n",
       "│             ┆              ┆        ┆      ┆   ┆            ┆            ┆ 13:43:10     ┆        │\n",
       "│ 439         ┆ Offer        ┆ female ┆ 13   ┆ … ┆ 1936-03-10 ┆ 15:55:05   ┆ 2022-08-03   ┆ null   │\n",
       "│             ┆ structure.   ┆        ┆      ┆   ┆            ┆            ┆ 09:50:23     ┆        │\n",
       "│ 178         ┆ Prepare wear ┆ female ┆ 48   ┆ … ┆ 1939-03-13 ┆ 18:13:54   ┆ 2022-08-02   ┆ null   │\n",
       "│             ┆ writer.      ┆        ┆      ┆   ┆            ┆            ┆ 08:52:46     ┆        │\n",
       "│ 668         ┆ Media. Cut.  ┆ female ┆ 27   ┆ … ┆ 1907-03-13 ┆ 18:32:49   ┆ 2022-08-05   ┆ null   │\n",
       "│             ┆ Level. Pick. ┆        ┆      ┆   ┆            ┆            ┆ 14:53:07     ┆        │\n",
       "└─────────────┴──────────────┴────────┴──────┴───┴────────────┴────────────┴──────────────┴────────┘"
      ],
      "text/html": [
       "<div><style>\n",
       ".dataframe > thead > tr,\n",
       ".dataframe > tbody > tr {\n",
       "  text-align: right;\n",
       "  white-space: pre-wrap;\n",
       "}\n",
       "</style>\n",
       "<small>shape: (5, 13)</small><table border=\"1\" class=\"dataframe\"><thead><tr><th>PassengerId</th><th>Name</th><th>Sex</th><th>Age</th><th>Parch</th><th>Ticket</th><th>Fare</th><th>Cabin</th><th>Embarked</th><th>Birthday</th><th>Board time</th><th>Married since</th><th>all_NA</th></tr><tr><td>i64</td><td>str</td><td>cat</td><td>i64</td><td>i64</td><td>str</td><td>f64</td><td>str</td><td>cat</td><td>date</td><td>time</td><td>datetime[μs]</td><td>null</td></tr></thead><tbody><tr><td>21</td><td>&quot;Protect through. Near school.&quot;</td><td>&quot;female&quot;</td><td>null</td><td>0</td><td>&quot;9913&quot;</td><td>9.605397</td><td>null</td><td>&quot;S&quot;</td><td>1924-10-18</td><td>18:21:29</td><td>2022-07-19 09:26:51</td><td>null</td></tr><tr><td>168</td><td>&quot;Study.&quot;</td><td>&quot;male&quot;</td><td>43</td><td>0</td><td>&quot;RE/B 2965&quot;</td><td>94.670432</td><td>null</td><td>&quot;C&quot;</td><td>1904-06-30</td><td>18:12:55</td><td>2022-08-05 13:43:10</td><td>null</td></tr><tr><td>439</td><td>&quot;Offer structure.&quot;</td><td>&quot;female&quot;</td><td>13</td><td>0</td><td>&quot;498552&quot;</td><td>15.051964</td><td>&quot;C075C60&quot;</td><td>&quot;S&quot;</td><td>1936-03-10</td><td>15:55:05</td><td>2022-08-03 09:50:23</td><td>null</td></tr><tr><td>178</td><td>&quot;Prepare wear writer.&quot;</td><td>&quot;female&quot;</td><td>48</td><td>0</td><td>&quot;004545&quot;</td><td>31.906532</td><td>null</td><td>&quot;Q&quot;</td><td>1939-03-13</td><td>18:13:54</td><td>2022-08-02 08:52:46</td><td>null</td></tr><tr><td>668</td><td>&quot;Media. Cut. Level. Pick.&quot;</td><td>&quot;female&quot;</td><td>27</td><td>0</td><td>&quot;GRDE 92149&quot;</td><td>1.672398</td><td>null</td><td>&quot;Q&quot;</td><td>1907-03-13</td><td>18:32:49</td><td>2022-08-05 14:53:07</td><td>null</td></tr></tbody></table></div>"
      ]
     },
     "execution_count": 56,
     "metadata": {},
     "output_type": "execute_result"
    }
   ],
   "execution_count": 56
  },
  {
   "metadata": {},
   "cell_type": "markdown",
   "source": "As you can see by the bounds, the disclosure plugin has been applied effectively for the 'Married since' column.",
   "id": "c1fe03c8712b771f"
  },
  {
   "metadata": {},
   "cell_type": "markdown",
   "source": [
    "## Changing the Privacy Level\n",
    "\n",
    "By default, the disclosure privacy partition size is set to 11.  This partition size determines how data is grouped for privacy protection. Data is grouped into partitions of (at least) the specified size, and the mean of each group is then used. A larger partition size increases privacy but may reduce data utility, while a smaller partition size may increase utility but decrease privacy.\n",
    "\n",
    "The partition size can be changed by specifying the `partition_size` parameter in the `DisclosurePrivacy` class. This can be done either for the entire MetaFrame, or for individual columns.\n",
    "\n",
    "When using the plugin for the entire MetaFrame, the syntax is as follows:"
   ],
   "id": "344e7d22c77a3f6a"
  },
  {
   "metadata": {
    "ExecuteTime": {
     "end_time": "2024-06-24T12:03:25.299313Z",
     "start_time": "2024-06-24T12:03:24.840982Z"
    }
   },
   "cell_type": "code",
   "source": [
    "mf = MetaFrame.fit_dataframe(\n",
    "    df=df,\n",
    "    privacy=DisclosurePrivacy(partition_size=20),  # Set the partition size to 20\n",
    ")"
   ],
   "id": "33c14ee86b5d737b",
   "outputs": [
    {
     "name": "stderr",
     "output_type": "stream",
     "text": [
      "100%|██████████| 13/13 [00:00<00:00, 28.82it/s]\n"
     ]
    }
   ],
   "execution_count": 57
  },
  {
   "metadata": {},
   "cell_type": "markdown",
   "source": "When using the plugin for individual columns, the syntax is as follows:",
   "id": "350d6e9caabf7a5a"
  },
  {
   "metadata": {
    "ExecuteTime": {
     "end_time": "2024-06-24T12:03:26.289918Z",
     "start_time": "2024-06-24T12:03:25.302168Z"
    }
   },
   "cell_type": "code",
   "source": [
    "specs = [\n",
    "    {\"name\": \"Married since\", \"privacy\": DisclosurePrivacy(partition_size=20)},\n",
    "]\n",
    "\n",
    "mf = MetaFrame.fit_dataframe(\n",
    "    df=df,\n",
    "    var_specs=specs,\n",
    ")"
   ],
   "id": "bc6d5b988f0b6214",
   "outputs": [
    {
     "name": "stderr",
     "output_type": "stream",
     "text": [
      "100%|██████████| 13/13 [00:00<00:00, 13.34it/s]\n"
     ]
    }
   ],
   "execution_count": 58
  },
  {
   "metadata": {
    "ExecuteTime": {
     "end_time": "2024-06-24T12:27:32.653832Z",
     "start_time": "2024-06-24T12:27:30.836432Z"
    }
   },
   "cell_type": "code",
   "source": [
    "# Fit metaframes\n",
    "mf_default = MetaFrame.fit_dataframe(\n",
    "    df=df,\n",
    "    privacy=DisclosurePrivacy(),  # Default partition size of 11\n",
    ")\n",
    "\n",
    "mf_large = MetaFrame.fit_dataframe(\n",
    "    df=df,\n",
    "    privacy=DisclosurePrivacy(partition_size=50),  # Larger partition size\n",
    ")\n",
    "\n",
    "# Generate synthetic data\n",
    "synthetic_data_default = mf_default.synthesize()\n",
    "synthetic_data_large = mf_large.synthesize()\n",
    "\n",
    "# Convert the 'Married since' column to integer timestamps for easier analysis\n",
    "synthetic_data_default = synthetic_data_default.with_columns(synthetic_data_default['Married since'].map_elements(lambda x: x.timestamp(), return_dtype=int).alias('Married since'))\n",
    "synthetic_data_large = synthetic_data_large.with_columns(synthetic_data_large['Married since'].map_elements(lambda x: x.timestamp(), return_dtype=int).alias('Married since'))\n",
    "\n",
    "# Compare the mean, median, and standard deviation of the 'Married since' column for the default and larger partition sizes.\n",
    "mean_default = synthetic_data_default['Married since'].mean()\n",
    "median_default = synthetic_data_default['Married since'].median()\n",
    "std_dev_default = synthetic_data_default['Married since'].std()\n",
    "\n",
    "mean_large = synthetic_data_large['Married since'].mean()\n",
    "median_large = synthetic_data_large['Married since'].median()\n",
    "std_dev_large = synthetic_data_large['Married since'].std()\n",
    "\n",
    "# Print the results\n",
    "print(\"Default partition size:\")\n",
    "print(f\"Mean: {mean_default}, Median: {median_default}, Standard Deviation: {std_dev_default}\\n\")\n",
    "\n",
    "print(\"Larger partition size:\")\n",
    "print(f\"Mean: {mean_large}, Median: {median_large}, Standard Deviation: {std_dev_large}\")\n",
    "\n"
   ],
   "id": "5b4cb274c30ed94e",
   "outputs": [
    {
     "name": "stderr",
     "output_type": "stream",
     "text": [
      "100%|██████████| 13/13 [00:00<00:00, 27.28it/s]\n",
      "100%|██████████| 13/13 [00:00<00:00, 25.91it/s]\n"
     ]
    },
    {
     "name": "stdout",
     "output_type": "stream",
     "text": [
      "Default partition size:\n",
      "Mean: 1659217605.8550186, Median: 1659185364.0, Standard Deviation: 746168.3544682733\n",
      "\n",
      "Larger partition size:\n",
      "Mean: 1659206157.7367089, Median: 1659190818.0, Standard Deviation: 766877.7510182475\n"
     ]
    }
   ],
   "execution_count": 77
  },
  {
   "metadata": {},
   "cell_type": "markdown",
   "source": [
    "# Conclusion\n",
    "That covers the basics of using the disclosure control plugin. If you have any questions, or encounter an issue, please feel free to reach out to us on our [GitHub page](https://github.com/sodascience/metasyn-disclosure-control)"
   ],
   "id": "814ff33d80af6786"
  }
 ],
 "metadata": {
  "kernelspec": {
   "display_name": "Python 3 (ipykernel)",
   "language": "python",
   "name": "python3"
  },
  "language_info": {
   "codemirror_mode": {
    "name": "ipython",
    "version": 3
   },
   "file_extension": ".py",
   "mimetype": "text/x-python",
   "name": "python",
   "nbconvert_exporter": "python",
   "pygments_lexer": "ipython3",
   "version": "3.11.6"
  },
  "vscode": {
   "interpreter": {
    "hash": "fdb1107d616260949a63e5f4e2c5568939cf2f2c0d0d70930ae22d4d9fd1a8a0"
   }
  }
 },
 "nbformat": 4,
 "nbformat_minor": 5
}
