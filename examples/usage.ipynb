{
 "cells": [
  {
   "attachments": {},
   "cell_type": "markdown",
   "id": "f5c6597b",
   "metadata": {},
   "source": [
    "# Tutorial on metasyn-disclosure\n",
    "\n",
    "In this tutorial, we will show how to use the metasyn disclosure control plugin to enhance the privacy of generative metadata (MetaFrames and exported GMF files). \n",
    "\n",
    "This tutorial assumes you are familiar with the basic workflow of `metasyn`,  if you're not, please first check out our [metasyn tutorials](https://metasynth.readthedocs.io/en/latest/usage/interactive_tutorials.html)."
   ]
  },
  {
   "metadata": {},
   "cell_type": "markdown",
   "source": "## Setup",
   "id": "9331a97659ed0651"
  },
  {
   "metadata": {},
   "cell_type": "markdown",
   "source": [
    "### Installation\n",
    "The first step is to install the metasyn-disclosure package, this can be done by uncommenting the following line and running it."
   ],
   "id": "9fa7e4e2cb31bd03"
  },
  {
   "metadata": {
    "ExecuteTime": {
     "end_time": "2024-06-10T09:55:56.712509Z",
     "start_time": "2024-06-10T09:55:56.710784Z"
    }
   },
   "cell_type": "code",
   "source": "# !pip install git+https://github.com/sodascience/metasyn-disclosure-control.git",
   "id": "900fcc461b174a03",
   "outputs": [],
   "execution_count": 42
  },
  {
   "metadata": {},
   "cell_type": "markdown",
   "source": [
    "### Importing Packages\n",
    "Then we import the necessary packages."
   ],
   "id": "12a71db750f8cd62"
  },
  {
   "metadata": {
    "ExecuteTime": {
     "end_time": "2024-06-10T09:55:56.735678Z",
     "start_time": "2024-06-10T09:55:56.733682Z"
    }
   },
   "cell_type": "code",
   "source": [
    "import polars as pl\n",
    "from metasyn import MetaFrame, demo_file\n",
    "from metasyn.distribution import (\n",
    "    DiscreteUniformDistribution,\n",
    "    FakerDistribution,\n",
    "    RegexDistribution,\n",
    ")\n",
    "\n",
    "from metasyncontrib.disclosure import DisclosurePrivacy"
   ],
   "id": "2442cb34",
   "outputs": [],
   "execution_count": 43
  },
  {
   "attachments": {},
   "cell_type": "markdown",
   "id": "04466c26",
   "metadata": {},
   "source": [
    "### Preparing a dataset\n",
    "\n",
    "The first step in creating the metadata is reading and converting your dataset to a polars DataFrame. "
   ]
  },
  {
   "cell_type": "code",
   "id": "3c2a44b7",
   "metadata": {
    "ExecuteTime": {
     "end_time": "2024-06-10T09:55:56.747413Z",
     "start_time": "2024-06-10T09:55:56.741422Z"
    }
   },
   "source": [
    "titanic_path = demo_file()\n",
    "df = pl.read_csv(\n",
    "    source=titanic_path,\n",
    "    try_parse_dates=True,\n",
    "    dtypes={\"Sex\": pl.Categorical, \"Embarked\": pl.Categorical},\n",
    ")\n",
    "df.head()"
   ],
   "outputs": [
    {
     "name": "stderr",
     "output_type": "stream",
     "text": [
      "/var/folders/cj/3zzhbxf513lb_7cym0fq5_s80000gn/T/ipykernel_17117/2150828063.py:2: DeprecationWarning: The argument `dtypes` for `read_csv` is deprecated. It has been renamed to `schema_overrides`.\n",
      "  df = pl.read_csv(\n"
     ]
    },
    {
     "data": {
      "text/plain": [
       "shape: (5, 13)\n",
       "┌─────────────┬───────────────┬────────┬─────┬───┬────────────┬────────────┬──────────────┬────────┐\n",
       "│ PassengerId ┆ Name          ┆ Sex    ┆ Age ┆ … ┆ Birthday   ┆ Board time ┆ Married      ┆ all_NA │\n",
       "│ ---         ┆ ---           ┆ ---    ┆ --- ┆   ┆ ---        ┆ ---        ┆ since        ┆ ---    │\n",
       "│ i64         ┆ str           ┆ cat    ┆ i64 ┆   ┆ date       ┆ time       ┆ ---          ┆ str    │\n",
       "│             ┆               ┆        ┆     ┆   ┆            ┆            ┆ datetime[μs] ┆        │\n",
       "╞═════════════╪═══════════════╪════════╪═════╪═══╪════════════╪════════════╪══════════════╪════════╡\n",
       "│ 1           ┆ Braund, Mr.   ┆ male   ┆ 22  ┆ … ┆ 1937-10-28 ┆ 15:53:04   ┆ 2022-08-05   ┆ null   │\n",
       "│             ┆ Owen Harris   ┆        ┆     ┆   ┆            ┆            ┆ 04:43:34     ┆        │\n",
       "│ 2           ┆ Cumings, Mrs. ┆ female ┆ 38  ┆ … ┆ null       ┆ 12:26:00   ┆ 2022-08-07   ┆ null   │\n",
       "│             ┆ John Bradley  ┆        ┆     ┆   ┆            ┆            ┆ 01:56:33     ┆        │\n",
       "│             ┆ (Fl…          ┆        ┆     ┆   ┆            ┆            ┆              ┆        │\n",
       "│ 3           ┆ Heikkinen,    ┆ female ┆ 26  ┆ … ┆ 1931-09-24 ┆ 16:08:25   ┆ 2022-08-04   ┆ null   │\n",
       "│             ┆ Miss. Laina   ┆        ┆     ┆   ┆            ┆            ┆ 20:27:37     ┆        │\n",
       "│ 4           ┆ Futrelle,     ┆ female ┆ 35  ┆ … ┆ 1936-11-30 ┆ null       ┆ 2022-08-07   ┆ null   │\n",
       "│             ┆ Mrs. Jacques  ┆        ┆     ┆   ┆            ┆            ┆ 07:05:55     ┆        │\n",
       "│             ┆ Heath (…      ┆        ┆     ┆   ┆            ┆            ┆              ┆        │\n",
       "│ 5           ┆ Allen, Mr.    ┆ male   ┆ 35  ┆ … ┆ 1918-11-07 ┆ 10:59:08   ┆ 2022-08-02   ┆ null   │\n",
       "│             ┆ William Henry ┆        ┆     ┆   ┆            ┆            ┆ 15:13:34     ┆        │\n",
       "└─────────────┴───────────────┴────────┴─────┴───┴────────────┴────────────┴──────────────┴────────┘"
      ],
      "text/html": [
       "<div><style>\n",
       ".dataframe > thead > tr,\n",
       ".dataframe > tbody > tr {\n",
       "  text-align: right;\n",
       "  white-space: pre-wrap;\n",
       "}\n",
       "</style>\n",
       "<small>shape: (5, 13)</small><table border=\"1\" class=\"dataframe\"><thead><tr><th>PassengerId</th><th>Name</th><th>Sex</th><th>Age</th><th>Parch</th><th>Ticket</th><th>Fare</th><th>Cabin</th><th>Embarked</th><th>Birthday</th><th>Board time</th><th>Married since</th><th>all_NA</th></tr><tr><td>i64</td><td>str</td><td>cat</td><td>i64</td><td>i64</td><td>str</td><td>f64</td><td>str</td><td>cat</td><td>date</td><td>time</td><td>datetime[μs]</td><td>str</td></tr></thead><tbody><tr><td>1</td><td>&quot;Braund, Mr. Owen Harris&quot;</td><td>&quot;male&quot;</td><td>22</td><td>0</td><td>&quot;A/5 21171&quot;</td><td>7.25</td><td>null</td><td>&quot;S&quot;</td><td>1937-10-28</td><td>15:53:04</td><td>2022-08-05 04:43:34</td><td>null</td></tr><tr><td>2</td><td>&quot;Cumings, Mrs. John Bradley (Fl…</td><td>&quot;female&quot;</td><td>38</td><td>0</td><td>&quot;PC 17599&quot;</td><td>71.2833</td><td>&quot;C85&quot;</td><td>&quot;C&quot;</td><td>null</td><td>12:26:00</td><td>2022-08-07 01:56:33</td><td>null</td></tr><tr><td>3</td><td>&quot;Heikkinen, Miss. Laina&quot;</td><td>&quot;female&quot;</td><td>26</td><td>0</td><td>&quot;STON/O2. 3101282&quot;</td><td>7.925</td><td>null</td><td>&quot;S&quot;</td><td>1931-09-24</td><td>16:08:25</td><td>2022-08-04 20:27:37</td><td>null</td></tr><tr><td>4</td><td>&quot;Futrelle, Mrs. Jacques Heath (…</td><td>&quot;female&quot;</td><td>35</td><td>0</td><td>&quot;113803&quot;</td><td>53.1</td><td>&quot;C123&quot;</td><td>&quot;S&quot;</td><td>1936-11-30</td><td>null</td><td>2022-08-07 07:05:55</td><td>null</td></tr><tr><td>5</td><td>&quot;Allen, Mr. William Henry&quot;</td><td>&quot;male&quot;</td><td>35</td><td>0</td><td>&quot;373450&quot;</td><td>8.05</td><td>null</td><td>&quot;S&quot;</td><td>1918-11-07</td><td>10:59:08</td><td>2022-08-02 15:13:34</td><td>null</td></tr></tbody></table></div>"
      ]
     },
     "execution_count": 44,
     "metadata": {},
     "output_type": "execute_result"
    }
   ],
   "execution_count": 44
  },
  {
   "metadata": {},
   "cell_type": "markdown",
   "source": "Then we prepare a variable specification for the dataset.",
   "id": "a548a2a8ae3d3da7"
  },
  {
   "metadata": {
    "ExecuteTime": {
     "end_time": "2024-06-10T09:55:56.798710Z",
     "start_time": "2024-06-10T09:55:56.748292Z"
    }
   },
   "cell_type": "code",
   "source": [
    "specs = [\n",
    "    # we set passengerId to unique\n",
    "    {\"name\": \"PassengerId\", \"distribution\": {\"unique\": True}},\n",
    "    # We create new fake names for the name column\n",
    "    {\"name\": \"Name\", \"distribution\": FakerDistribution(\"name\")},\n",
    "    # Fit an exponential distribution based on the data for fare\n",
    "    {\"name\": \"Fare\", \"distribution\": {\"implements\": \"core.exponential\"}},\n",
    "    # For age we enforce a specific uniform distribution\n",
    "    {\"name\": \"Age\", \"distribution\": DiscreteUniformDistribution(20, 40)},\n",
    "    # We know cabin has a specific regular expression\n",
    "    {\"name\": \"Cabin\", \"distribution\": RegexDistribution(r\"[ABCDEF][0-9]{2,3}\")},\n",
    "]"
   ],
   "id": "318a91c8852cec3a",
   "outputs": [],
   "execution_count": 45
  },
  {
   "attachments": {},
   "cell_type": "markdown",
   "id": "9574a4ab",
   "metadata": {},
   "source": [
    "## Using Disclosure Control\n",
    "\n",
    "First, let's look at what happens when we fit a MetaFrame to the data without the disclosure plugin."
   ]
  },
  {
   "metadata": {},
   "cell_type": "markdown",
   "source": "### Without Disclosure Control",
   "id": "224d648bb3a8ac64"
  },
  {
   "cell_type": "code",
   "id": "b2f5eadd",
   "metadata": {
    "ExecuteTime": {
     "end_time": "2024-06-10T09:55:57.305779Z",
     "start_time": "2024-06-10T09:55:56.799562Z"
    }
   },
   "source": [
    "mf = MetaFrame.fit_dataframe(\n",
    "    df=df,\n",
    "    var_specs=specs\n",
    ")\n",
    "\n",
    "print(\n",
    "    f\"Original Data vs Generative MetaData (for 'Married since' column):\\n\\n\"\n",
    "    f\"Lowest value in source DataFrame: {df['Married since'].min()}\\n\"\n",
    "    f\"Lowest bound in the fitted MetaFrame:  {mf['Married since'].distribution.lower}\\n\\n\"\n",
    "    f\"Highest value in source DataFrame: {df['Married since'].max()}\\n\"\n",
    "    f\"Highest bound in the fitted MetaFrame: {mf['Married since'].distribution.upper}\"\n",
    ")\n"
   ],
   "outputs": [
    {
     "name": "stderr",
     "output_type": "stream",
     "text": [
      "100%|██████████| 13/13 [00:00<00:00, 26.07it/s]"
     ]
    },
    {
     "name": "stdout",
     "output_type": "stream",
     "text": [
      "Original Data vs Generative MetaData (for 'Married since' column):\n",
      "\n",
      "Lowest value in source DataFrame: 2022-07-15 12:21:15\n",
      "Lowest bound in the fitted MetaFrame:  2022-07-15 12:21:15\n",
      "\n",
      "Highest value in source DataFrame: 2022-08-15 10:32:05\n",
      "Highest bound in the fitted MetaFrame: 2022-08-15 10:32:05\n"
     ]
    },
    {
     "name": "stderr",
     "output_type": "stream",
     "text": [
      "\n"
     ]
    }
   ],
   "execution_count": 46
  },
  {
   "attachments": {},
   "cell_type": "markdown",
   "id": "5069e883",
   "metadata": {},
   "source": [
    "As you can see, when comparing the original data to the fitted MetaFrame, we can see that the lower bound of the distribution is equal to the lowest value in the source DataFrame, and the upper bound is equal to the highest value. \n",
    "\n",
    "This means that source data can be easily inferred from the generative metadata.\n"
   ]
  },
  {
   "attachments": {},
   "cell_type": "markdown",
   "id": "2897133c",
   "metadata": {},
   "source": [
    "### With Disclosure Control\n",
    "\n",
    "By using the disclosure plugin, we can prevent this privacy concern. \n",
    "\n",
    "We can opt to use the disclosure plugin for the entire MetaFrame, by: \n",
    "- Set the `dist_providers` parameter to \"metasyn-disclosure\" to use the plugin. \n",
    "- Set the `privacy` parameter to `DisclosurePrivacy()` to enable disclosure control for the entire MetaFrame.\n",
    "\n",
    "Be aware that not all distributions are implemented by the disclosure plugin. As such, when globally setting the privacy not all distributions will be fit by default, but they can be manually set. \n",
    "\n"
   ]
  },
  {
   "cell_type": "code",
   "id": "b8b96c16",
   "metadata": {
    "ExecuteTime": {
     "end_time": "2024-06-10T09:55:57.699032Z",
     "start_time": "2024-06-10T09:55:57.306916Z"
    }
   },
   "source": [
    "mf_disclosure = MetaFrame.fit_dataframe(\n",
    "    df=df,\n",
    "    var_specs=specs,\n",
    "    dist_providers=\"metasyn-disclosure\",  # Make the source of the distributions the disclosure plugin\n",
    "    privacy=DisclosurePrivacy(),  # Make the entire MetaFrame use disclosure control\n",
    ")\n",
    "\n",
    "print(\n",
    "    f\"Original Data vs Generative MetaData (for 'Married since' column):\\n\\n\"\n",
    "    f\"Lowest value in source DataFrame: {df['Married since'].min()}\\n\"\n",
    "    f\"Lowest bound in the fitted MetaFrame:  {mf_disclosure['Married since'].distribution.lower}\\n\\n\"\n",
    "    f\"Highest value in source DataFrame: {df['Married since'].max()}\\n\"\n",
    "    f\"Highest bound in the fitted MetaFrame: {mf_disclosure['Married since'].distribution.upper}\"\n",
    ")\n",
    "\n",
    "mf_disclosure.to_json(\"temp.json\")"
   ],
   "outputs": [
    {
     "name": "stderr",
     "output_type": "stream",
     "text": [
      "100%|██████████| 13/13 [00:00<00:00, 84.05it/s]\n"
     ]
    },
    {
     "name": "stdout",
     "output_type": "stream",
     "text": [
      "Original Data vs Generative MetaData (for 'Married since' column):\n",
      "\n",
      "Lowest value in source DataFrame: 2022-07-15 12:21:15\n",
      "Lowest bound in the fitted MetaFrame:  2022-07-15 17:12:24\n",
      "\n",
      "Highest value in source DataFrame: 2022-08-15 10:32:05\n",
      "Highest bound in the fitted MetaFrame: 2022-08-15 07:56:54\n"
     ]
    }
   ],
   "execution_count": 47
  },
  {
   "attachments": {},
   "cell_type": "markdown",
   "id": "ea8e0833",
   "metadata": {},
   "source": "As you can see, the disclosure plugin fixes the privacy concern present in the base metasyn package: distribution bounds are no longer equal to the source data."
  },
  {
   "metadata": {},
   "cell_type": "markdown",
   "source": [
    "It is also possible to use disclosure control for only a specific variable. To do so, we have to specify the `privacy` parameter for the variable in the variable specification.\n",
    "\n",
    "We can do this as follows:"
   ],
   "id": "a45c6d62f78366"
  },
  {
   "metadata": {
    "ExecuteTime": {
     "end_time": "2024-06-10T09:55:57.726641Z",
     "start_time": "2024-06-10T09:55:57.699716Z"
    }
   },
   "cell_type": "code",
   "source": [
    "specs_disclosure = [\n",
    "    # Same as previous\n",
    "    {\"name\": \"PassengerId\", \"distribution\": {\"unique\": True}},\n",
    "    {\"name\": \"Name\", \"distribution\": FakerDistribution(\"name\")},\n",
    "    {\"name\": \"Fare\", \"distribution\": {\"implements\": \"core.exponential\"}},\n",
    "    {\"name\": \"Age\", \"distribution\": DiscreteUniformDistribution(20, 40)},\n",
    "    {\"name\": \"Cabin\", \"distribution\": RegexDistribution(r\"[ABCDEF][0-9]{2,3}\")},\n",
    "    \n",
    "    # Use disclosure control for the 'Married since' column\n",
    "    {\"name\": \"Married since\", \"privacy\": DisclosurePrivacy()}\n",
    "]"
   ],
   "id": "4fdfa80d33117e5e",
   "outputs": [],
   "execution_count": 48
  },
  {
   "metadata": {},
   "cell_type": "markdown",
   "source": [
    "Then, when fitting the MetaFrame, we have to specify the `dist_providers` parameter to include both the \"builtin\" distributions, as well as the diclosure variations. \n",
    "We have to include them both because otherwise the distributions not specified in the var_spec to use the disclosure plugin will give an error. "
   ],
   "id": "a9164491eb00cdd4"
  },
  {
   "metadata": {
    "ExecuteTime": {
     "end_time": "2024-06-10T09:55:58.240983Z",
     "start_time": "2024-06-10T09:55:57.727338Z"
    }
   },
   "cell_type": "code",
   "source": [
    "mf_disclosure_alt = MetaFrame.fit_dataframe(\n",
    "    df=df,\n",
    "    var_specs=specs_disclosure,\n",
    "    dist_providers=[\"builtin\", \"metasyn-disclosure\"]  # Allow for distributions from both the builtin and disclosure plugin\n",
    ")\n",
    "\n",
    "print(\n",
    "    f\"Original Data vs Generative MetaData (for 'Married since' column):\\n\\n\"\n",
    "    f\"Lowest value in source DataFrame: {df['Married since'].min()}\\n\"\n",
    "    f\"Lowest bound in the fitted MetaFrame:  {mf_disclosure_alt['Married since'].distribution.lower}\\n\\n\"\n",
    "    f\"Highest value in source DataFrame: {df['Married since'].max()}\\n\"\n",
    "    f\"Highest bound in the fitted MetaFrame: {mf_disclosure_alt['Married since'].distribution.upper}\"\n",
    ")"
   ],
   "id": "b891be4dd4d13597",
   "outputs": [
    {
     "name": "stderr",
     "output_type": "stream",
     "text": [
      "100%|██████████| 13/13 [00:00<00:00, 25.99it/s]"
     ]
    },
    {
     "name": "stdout",
     "output_type": "stream",
     "text": [
      "Original Data vs Generative MetaData (for 'Married since' column):\n",
      "\n",
      "Lowest value in source DataFrame: 2022-07-15 12:21:15\n",
      "Lowest bound in the fitted MetaFrame:  2022-07-15 17:12:24\n",
      "\n",
      "Highest value in source DataFrame: 2022-08-15 10:32:05\n",
      "Highest bound in the fitted MetaFrame: 2022-08-15 07:56:54\n"
     ]
    },
    {
     "name": "stderr",
     "output_type": "stream",
     "text": [
      "\n"
     ]
    }
   ],
   "execution_count": 49
  },
  {
   "metadata": {},
   "cell_type": "markdown",
   "source": "As you can see, the ''Married since\" column now has different bounds for the distribution than the source data, while the other columns are still the same as before.",
   "id": "c1fe03c8712b771f"
  }
 ],
 "metadata": {
  "kernelspec": {
   "display_name": "Python 3 (ipykernel)",
   "language": "python",
   "name": "python3"
  },
  "language_info": {
   "codemirror_mode": {
    "name": "ipython",
    "version": 3
   },
   "file_extension": ".py",
   "mimetype": "text/x-python",
   "name": "python",
   "nbconvert_exporter": "python",
   "pygments_lexer": "ipython3",
   "version": "3.11.6"
  },
  "vscode": {
   "interpreter": {
    "hash": "fdb1107d616260949a63e5f4e2c5568939cf2f2c0d0d70930ae22d4d9fd1a8a0"
   }
  }
 },
 "nbformat": 4,
 "nbformat_minor": 5
}
