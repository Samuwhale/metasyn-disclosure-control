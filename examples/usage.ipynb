{
 "cells": [
  {
   "attachments": {},
   "cell_type": "markdown",
   "id": "f5c6597b",
   "metadata": {},
   "source": [
    "# Tutorial on metasyn-disclosure\n",
    "\n",
    "In this tutorial, we will show how to use the metasyn disclosure control plugin to enhance the privacy of generative metadata (MetaFrames and exported GMF files). \n",
    "\n",
    "This tutorial assumes you are familiar with the basic workflow of `metasyn`,  if you're not, please first check out our [metasyn tutorials](https://metasynth.readthedocs.io/en/latest/usage/interactive_tutorials.html)."
   ]
  },
  {
   "metadata": {},
   "cell_type": "markdown",
   "source": "## Setup",
   "id": "9331a97659ed0651"
  },
  {
   "metadata": {},
   "cell_type": "markdown",
   "source": [
    "### Installation\n",
    "The first step is to install the metasyn-disclosure package, this can be done by uncommenting the following line and running it."
   ],
   "id": "9fa7e4e2cb31bd03"
  },
  {
   "metadata": {
    "ExecuteTime": {
     "end_time": "2024-06-11T09:24:29.859379Z",
     "start_time": "2024-06-11T09:24:29.857611Z"
    }
   },
   "cell_type": "code",
   "source": "# !pip install git+https://github.com/sodascience/metasyn-disclosure-control.git",
   "id": "900fcc461b174a03",
   "outputs": [],
   "execution_count": 64
  },
  {
   "metadata": {},
   "cell_type": "markdown",
   "source": [
    "### Importing Packages\n",
    "Then we import the necessary packages."
   ],
   "id": "12a71db750f8cd62"
  },
  {
   "metadata": {
    "ExecuteTime": {
     "end_time": "2024-06-11T09:24:29.900321Z",
     "start_time": "2024-06-11T09:24:29.898328Z"
    }
   },
   "cell_type": "code",
   "source": [
    "import polars as pl\n",
    "from metasyn import MetaFrame, demo_file\n",
    "from metasyn.distribution import (\n",
    "    DiscreteUniformDistribution,\n",
    "    FakerDistribution,\n",
    "    RegexDistribution,\n",
    ")\n",
    "\n",
    "from metasyncontrib.disclosure import DisclosurePrivacy"
   ],
   "id": "2442cb34",
   "outputs": [],
   "execution_count": 65
  },
  {
   "attachments": {},
   "cell_type": "markdown",
   "id": "04466c26",
   "metadata": {},
   "source": [
    "### Preparing a dataset\n",
    "\n",
    "The first step in creating the metadata is reading and converting your dataset to a polars DataFrame. "
   ]
  },
  {
   "cell_type": "code",
   "id": "3c2a44b7",
   "metadata": {
    "ExecuteTime": {
     "end_time": "2024-06-11T09:24:29.906823Z",
     "start_time": "2024-06-11T09:24:29.901546Z"
    }
   },
   "source": [
    "titanic_path = demo_file()\n",
    "df = pl.read_csv(\n",
    "    source=titanic_path,\n",
    "    try_parse_dates=True,\n",
    "    dtypes={\"Sex\": pl.Categorical, \"Embarked\": pl.Categorical},\n",
    ")\n",
    "df.head()"
   ],
   "outputs": [
    {
     "name": "stderr",
     "output_type": "stream",
     "text": [
      "/var/folders/cj/3zzhbxf513lb_7cym0fq5_s80000gn/T/ipykernel_22723/2150828063.py:2: DeprecationWarning: The argument `dtypes` for `read_csv` is deprecated. It has been renamed to `schema_overrides`.\n",
      "  df = pl.read_csv(\n"
     ]
    },
    {
     "data": {
      "text/plain": [
       "shape: (5, 13)\n",
       "┌─────────────┬───────────────┬────────┬─────┬───┬────────────┬────────────┬──────────────┬────────┐\n",
       "│ PassengerId ┆ Name          ┆ Sex    ┆ Age ┆ … ┆ Birthday   ┆ Board time ┆ Married      ┆ all_NA │\n",
       "│ ---         ┆ ---           ┆ ---    ┆ --- ┆   ┆ ---        ┆ ---        ┆ since        ┆ ---    │\n",
       "│ i64         ┆ str           ┆ cat    ┆ i64 ┆   ┆ date       ┆ time       ┆ ---          ┆ str    │\n",
       "│             ┆               ┆        ┆     ┆   ┆            ┆            ┆ datetime[μs] ┆        │\n",
       "╞═════════════╪═══════════════╪════════╪═════╪═══╪════════════╪════════════╪══════════════╪════════╡\n",
       "│ 1           ┆ Braund, Mr.   ┆ male   ┆ 22  ┆ … ┆ 1937-10-28 ┆ 15:53:04   ┆ 2022-08-05   ┆ null   │\n",
       "│             ┆ Owen Harris   ┆        ┆     ┆   ┆            ┆            ┆ 04:43:34     ┆        │\n",
       "│ 2           ┆ Cumings, Mrs. ┆ female ┆ 38  ┆ … ┆ null       ┆ 12:26:00   ┆ 2022-08-07   ┆ null   │\n",
       "│             ┆ John Bradley  ┆        ┆     ┆   ┆            ┆            ┆ 01:56:33     ┆        │\n",
       "│             ┆ (Fl…          ┆        ┆     ┆   ┆            ┆            ┆              ┆        │\n",
       "│ 3           ┆ Heikkinen,    ┆ female ┆ 26  ┆ … ┆ 1931-09-24 ┆ 16:08:25   ┆ 2022-08-04   ┆ null   │\n",
       "│             ┆ Miss. Laina   ┆        ┆     ┆   ┆            ┆            ┆ 20:27:37     ┆        │\n",
       "│ 4           ┆ Futrelle,     ┆ female ┆ 35  ┆ … ┆ 1936-11-30 ┆ null       ┆ 2022-08-07   ┆ null   │\n",
       "│             ┆ Mrs. Jacques  ┆        ┆     ┆   ┆            ┆            ┆ 07:05:55     ┆        │\n",
       "│             ┆ Heath (…      ┆        ┆     ┆   ┆            ┆            ┆              ┆        │\n",
       "│ 5           ┆ Allen, Mr.    ┆ male   ┆ 35  ┆ … ┆ 1918-11-07 ┆ 10:59:08   ┆ 2022-08-02   ┆ null   │\n",
       "│             ┆ William Henry ┆        ┆     ┆   ┆            ┆            ┆ 15:13:34     ┆        │\n",
       "└─────────────┴───────────────┴────────┴─────┴───┴────────────┴────────────┴──────────────┴────────┘"
      ],
      "text/html": [
       "<div><style>\n",
       ".dataframe > thead > tr,\n",
       ".dataframe > tbody > tr {\n",
       "  text-align: right;\n",
       "  white-space: pre-wrap;\n",
       "}\n",
       "</style>\n",
       "<small>shape: (5, 13)</small><table border=\"1\" class=\"dataframe\"><thead><tr><th>PassengerId</th><th>Name</th><th>Sex</th><th>Age</th><th>Parch</th><th>Ticket</th><th>Fare</th><th>Cabin</th><th>Embarked</th><th>Birthday</th><th>Board time</th><th>Married since</th><th>all_NA</th></tr><tr><td>i64</td><td>str</td><td>cat</td><td>i64</td><td>i64</td><td>str</td><td>f64</td><td>str</td><td>cat</td><td>date</td><td>time</td><td>datetime[μs]</td><td>str</td></tr></thead><tbody><tr><td>1</td><td>&quot;Braund, Mr. Owen Harris&quot;</td><td>&quot;male&quot;</td><td>22</td><td>0</td><td>&quot;A/5 21171&quot;</td><td>7.25</td><td>null</td><td>&quot;S&quot;</td><td>1937-10-28</td><td>15:53:04</td><td>2022-08-05 04:43:34</td><td>null</td></tr><tr><td>2</td><td>&quot;Cumings, Mrs. John Bradley (Fl…</td><td>&quot;female&quot;</td><td>38</td><td>0</td><td>&quot;PC 17599&quot;</td><td>71.2833</td><td>&quot;C85&quot;</td><td>&quot;C&quot;</td><td>null</td><td>12:26:00</td><td>2022-08-07 01:56:33</td><td>null</td></tr><tr><td>3</td><td>&quot;Heikkinen, Miss. Laina&quot;</td><td>&quot;female&quot;</td><td>26</td><td>0</td><td>&quot;STON/O2. 3101282&quot;</td><td>7.925</td><td>null</td><td>&quot;S&quot;</td><td>1931-09-24</td><td>16:08:25</td><td>2022-08-04 20:27:37</td><td>null</td></tr><tr><td>4</td><td>&quot;Futrelle, Mrs. Jacques Heath (…</td><td>&quot;female&quot;</td><td>35</td><td>0</td><td>&quot;113803&quot;</td><td>53.1</td><td>&quot;C123&quot;</td><td>&quot;S&quot;</td><td>1936-11-30</td><td>null</td><td>2022-08-07 07:05:55</td><td>null</td></tr><tr><td>5</td><td>&quot;Allen, Mr. William Henry&quot;</td><td>&quot;male&quot;</td><td>35</td><td>0</td><td>&quot;373450&quot;</td><td>8.05</td><td>null</td><td>&quot;S&quot;</td><td>1918-11-07</td><td>10:59:08</td><td>2022-08-02 15:13:34</td><td>null</td></tr></tbody></table></div>"
      ]
     },
     "execution_count": 66,
     "metadata": {},
     "output_type": "execute_result"
    }
   ],
   "execution_count": 66
  },
  {
   "attachments": {},
   "cell_type": "markdown",
   "id": "9574a4ab",
   "metadata": {},
   "source": [
    "## Using Disclosure Control\n",
    "\n",
    "First, let's look at what happens when we fit a MetaFrame to the data without the disclosure plugin."
   ]
  },
  {
   "metadata": {},
   "cell_type": "markdown",
   "source": "### Without Disclosure Control",
   "id": "224d648bb3a8ac64"
  },
  {
   "cell_type": "code",
   "id": "b2f5eadd",
   "metadata": {
    "ExecuteTime": {
     "end_time": "2024-06-11T09:24:30.951070Z",
     "start_time": "2024-06-11T09:24:29.907591Z"
    }
   },
   "source": [
    "mf = MetaFrame.fit_dataframe(\n",
    "    df=df,\n",
    ")\n",
    "\n",
    "print(\n",
    "    f\"Original Data vs Generative MetaData (for 'Married since' column):\\n\\n\"\n",
    "    f\"Lowest value in source DataFrame: {df['Married since'].min()}\\n\"\n",
    "    f\"Lowest bound in the fitted MetaFrame:  {mf['Married since'].distribution.lower}\\n\\n\"\n",
    "    f\"Highest value in source DataFrame: {df['Married since'].max()}\\n\"\n",
    "    f\"Highest bound in the fitted MetaFrame: {mf['Married since'].distribution.upper}\"\n",
    ")"
   ],
   "outputs": [
    {
     "name": "stderr",
     "output_type": "stream",
     "text": [
      "100%|██████████| 13/13 [00:01<00:00, 12.55it/s]"
     ]
    },
    {
     "name": "stdout",
     "output_type": "stream",
     "text": [
      "Original Data vs Generative MetaData (for 'Married since' column):\n",
      "\n",
      "Lowest value in source DataFrame: 2022-07-15 12:21:15\n",
      "Lowest bound in the fitted MetaFrame:  2022-07-15 12:21:15\n",
      "\n",
      "Highest value in source DataFrame: 2022-08-15 10:32:05\n",
      "Highest bound in the fitted MetaFrame: 2022-08-15 10:32:05\n"
     ]
    },
    {
     "name": "stderr",
     "output_type": "stream",
     "text": [
      "\n"
     ]
    }
   ],
   "execution_count": 67
  },
  {
   "attachments": {},
   "cell_type": "markdown",
   "id": "5069e883",
   "metadata": {},
   "source": [
    "As you can see, when comparing the original data to the fitted MetaFrame, we can see that the lower bound of the distribution is equal to the lowest value in the source DataFrame, and the upper bound is equal to the highest value. \n",
    "\n",
    "This means that source data can be easily inferred from the generative metadata.\n"
   ]
  },
  {
   "attachments": {},
   "cell_type": "markdown",
   "id": "2897133c",
   "metadata": {},
   "source": [
    "### With Disclosure Control\n",
    "\n",
    "By using the disclosure plugin, we can prevent this privacy concern. \n",
    "\n",
    "We can opt to use the disclosure plugin for the entire MetaFrame, by: \n",
    "- Set the `dist_providers` parameter to \"metasyn-disclosure\" to use the plugin. \n",
    "- Set the `privacy` parameter to `DisclosurePrivacy()` to enable disclosure control for the entire MetaFrame."
   ]
  },
  {
   "metadata": {
    "ExecuteTime": {
     "end_time": "2024-06-11T09:24:31.402377Z",
     "start_time": "2024-06-11T09:24:30.952373Z"
    }
   },
   "cell_type": "code",
   "source": [
    "mf_disclosure = MetaFrame.fit_dataframe(\n",
    "    df=df,\n",
    "    dist_providers=\"metasyn-disclosure\",  # Make the source of the distributions the disclosure plugin\n",
    "    privacy=DisclosurePrivacy(),  # Make the entire MetaFrame use disclosure control\n",
    ")\n",
    "\n",
    "print(\n",
    "    f\"Original Data vs Generative MetaData (for 'Married since' column):\\n\\n\"\n",
    "    f\"Lowest value in source DataFrame: {df['Married since'].min()}\\n\"\n",
    "    f\"Lowest bound in the fitted MetaFrame:  {mf_disclosure['Married since'].distribution.lower}\\n\\n\"\n",
    "    f\"Highest value in source DataFrame: {df['Married since'].max()}\\n\"\n",
    "    f\"Highest bound in the fitted MetaFrame: {mf_disclosure['Married since'].distribution.upper}\"\n",
    ")"
   ],
   "id": "281c927137c0db4e",
   "outputs": [
    {
     "name": "stderr",
     "output_type": "stream",
     "text": [
      "100%|██████████| 13/13 [00:00<00:00, 29.49it/s]"
     ]
    },
    {
     "name": "stdout",
     "output_type": "stream",
     "text": [
      "Original Data vs Generative MetaData (for 'Married since' column):\n",
      "\n",
      "Lowest value in source DataFrame: 2022-07-15 12:21:15\n",
      "Lowest bound in the fitted MetaFrame:  2022-07-15 17:12:24\n",
      "\n",
      "Highest value in source DataFrame: 2022-08-15 10:32:05\n",
      "Highest bound in the fitted MetaFrame: 2022-08-15 07:56:54\n"
     ]
    },
    {
     "name": "stderr",
     "output_type": "stream",
     "text": [
      "\n"
     ]
    }
   ],
   "execution_count": 68
  },
  {
   "attachments": {},
   "cell_type": "markdown",
   "id": "de3d28eb5f2bb793",
   "metadata": {},
   "source": "As you can see, the disclosure plugin fixes the privacy concern present in the base metasyn package: distribution bounds are no longer equal to the source data. "
  },
  {
   "metadata": {},
   "cell_type": "markdown",
   "source": [
    "### Manually Specifying Distributions\n",
    "However, there still is a problem. The disclosure plugin does not implement every type of distribution that the base metasyn package does. This means, that in cases where a distribution can not be found, the plugin will default to a NA distribution (returning only NA values).\n",
    "We can see this happening if we print the generative metadata, for example, notice how the 'Cabin' column has a NA distribution."
   ],
   "id": "ea8e0833"
  },
  {
   "metadata": {
    "ExecuteTime": {
     "end_time": "2024-06-11T09:24:31.405011Z",
     "start_time": "2024-06-11T09:24:31.403098Z"
    }
   },
   "cell_type": "code",
   "source": "print(mf_disclosure)",
   "id": "7bd78070ae1defa3",
   "outputs": [
    {
     "name": "stdout",
     "output_type": "stream",
     "text": [
      "# Rows: 891\n",
      "# Columns: 13\n",
      "\n",
      "Column 1: \"PassengerId\"\n",
      "- Variable Type: discrete\n",
      "- Data Type: Int64\n",
      "- Proportion of Missing Values: 0.0000\n",
      "- Distribution:\n",
      "\t- Type: core.normal\n",
      "\t- Provenance: metasyn-disclosure\n",
      "\t- Parameters:\n",
      "\t\t- mean: 446.0\n",
      "\t\t- sd: 257.18994277900265\n",
      "\t\n",
      "\n",
      "Column 2: \"Name\"\n",
      "- Variable Type: string\n",
      "- Data Type: String\n",
      "- Proportion of Missing Values: 0.0000\n",
      "- Distribution:\n",
      "\t- Type: core.freetext\n",
      "\t- Provenance: metasyn-disclosure\n",
      "\t- Parameters:\n",
      "\t\t- locale: EN\n",
      "\t\t- avg_sentences: 2.4691358024691357\n",
      "\t\t- avg_words: 4.093153759820426\n",
      "\t\n",
      "\n",
      "Column 3: \"Sex\"\n",
      "- Variable Type: categorical\n",
      "- Data Type: Categorical(ordering='physical')\n",
      "- Proportion of Missing Values: 0.0000\n",
      "- Distribution:\n",
      "\t- Type: core.multinoulli\n",
      "\t- Provenance: metasyn-disclosure\n",
      "\t- Parameters:\n",
      "\t\t- labels: ['female' 'male']\n",
      "\t\t- probs: [0.35241302 0.64758698]\n",
      "\t\n",
      "\n",
      "Column 4: \"Age\"\n",
      "- Variable Type: discrete\n",
      "- Data Type: Int64\n",
      "- Proportion of Missing Values: 0.1987\n",
      "- Distribution:\n",
      "\t- Type: core.normal\n",
      "\t- Provenance: metasyn-disclosure\n",
      "\t- Parameters:\n",
      "\t\t- mean: 29.689655172413794\n",
      "\t\t- sd: 14.624267616854176\n",
      "\t\n",
      "\n",
      "Column 5: \"Parch\"\n",
      "- Variable Type: discrete\n",
      "- Data Type: Int64\n",
      "- Proportion of Missing Values: 0.0000\n",
      "- Distribution:\n",
      "\t- Type: core.multinoulli\n",
      "\t- Provenance: metasyn-disclosure\n",
      "\t- Parameters:\n",
      "\t\t- labels: [0 1 2]\n",
      "\t\t- probs: [0.7739726 0.1347032 0.0913242]\n",
      "\t\n",
      "\n",
      "Column 6: \"Ticket\"\n",
      "- Variable Type: string\n",
      "- Data Type: String\n",
      "- Proportion of Missing Values: 0.0000\n",
      "- Distribution:\n",
      "\t- Type: core.na\n",
      "\t- Provenance: metasyn-disclosure\n",
      "\t- Parameters:\n",
      "\t\n",
      "\t\n",
      "\n",
      "Column 7: \"Fare\"\n",
      "- Variable Type: continuous\n",
      "- Data Type: Float64\n",
      "- Proportion of Missing Values: 0.0000\n",
      "- Distribution:\n",
      "\t- Type: core.exponential\n",
      "\t- Provenance: metasyn-disclosure\n",
      "\t- Parameters:\n",
      "\t\t- rate: 0.031930518147512243\n",
      "\t\n",
      "\n",
      "Column 8: \"Cabin\"\n",
      "- Variable Type: string\n",
      "- Data Type: String\n",
      "- Proportion of Missing Values: 0.7710\n",
      "- Distribution:\n",
      "\t- Type: core.na\n",
      "\t- Provenance: metasyn-disclosure\n",
      "\t- Parameters:\n",
      "\t\n",
      "\t\n",
      "\n",
      "Column 9: \"Embarked\"\n",
      "- Variable Type: categorical\n",
      "- Data Type: Categorical(ordering='physical')\n",
      "- Proportion of Missing Values: 0.0022\n",
      "- Distribution:\n",
      "\t- Type: core.multinoulli\n",
      "\t- Provenance: metasyn-disclosure\n",
      "\t- Parameters:\n",
      "\t\t- labels: ['C' 'Q' 'S']\n",
      "\t\t- probs: [0.18897638 0.08661417 0.72440945]\n",
      "\t\n",
      "\n",
      "Column 10: \"Birthday\"\n",
      "- Variable Type: date\n",
      "- Data Type: Date\n",
      "- Proportion of Missing Values: 0.0875\n",
      "- Distribution:\n",
      "\t- Type: core.uniform\n",
      "\t- Provenance: metasyn-disclosure\n",
      "\t- Parameters:\n",
      "\t\t- lower: 1903-11-03\n",
      "\t\t- upper: 1940-02-24\n",
      "\t\n",
      "\n",
      "Column 11: \"Board time\"\n",
      "- Variable Type: time\n",
      "- Data Type: Time\n",
      "- Proportion of Missing Values: 0.0887\n",
      "- Distribution:\n",
      "\t- Type: core.uniform\n",
      "\t- Provenance: metasyn-disclosure\n",
      "\t- Parameters:\n",
      "\t\t- lower: 10:41:52\n",
      "\t\t- upper: 18:38:18\n",
      "\t\t- precision: seconds\n",
      "\t\n",
      "\n",
      "Column 12: \"Married since\"\n",
      "- Variable Type: datetime\n",
      "- Data Type: Datetime(time_unit='us', time_zone=None)\n",
      "- Proportion of Missing Values: 0.1033\n",
      "- Distribution:\n",
      "\t- Type: core.uniform\n",
      "\t- Provenance: metasyn-disclosure\n",
      "\t- Parameters:\n",
      "\t\t- lower: 2022-07-15T17:12:24\n",
      "\t\t- upper: 2022-08-15T07:56:54\n",
      "\t\t- precision: seconds\n",
      "\t\n",
      "\n",
      "Column 13: \"all_NA\"\n",
      "- Variable Type: string\n",
      "- Data Type: String\n",
      "- Proportion of Missing Values: 1.0000\n",
      "- Distribution:\n",
      "\t- Type: core.na\n",
      "\t- Provenance: builtin\n",
      "\t- Parameters:\n",
      "\t\n",
      "\t\n",
      "\n",
      "\n"
     ]
    }
   ],
   "execution_count": 69
  },
  {
   "metadata": {},
   "cell_type": "markdown",
   "source": "We can fix this by manually specifying the distributions for the variables that the disclosure plugin does not support. For example, we can set the 'Cabin' column to have a regex distribution.",
   "id": "e3dc0c4c1e8d8a9d"
  },
  {
   "metadata": {
    "ExecuteTime": {
     "end_time": "2024-06-11T09:24:31.785605Z",
     "start_time": "2024-06-11T09:24:31.405664Z"
    }
   },
   "cell_type": "code",
   "source": [
    "specs = [\n",
    "    # Specify cabin to have a RegexDistribution\n",
    "    {\"name\": \"Cabin\", \"distribution\": RegexDistribution(r\"[ABCDEF][0-9]{2,3}\")},\n",
    "]\n",
    "\n",
    "mf_disclosure = MetaFrame.fit_dataframe(\n",
    "    df=df,\n",
    "    var_specs=specs, \n",
    "    dist_providers=\"metasyn-disclosure\",\n",
    "    privacy=DisclosurePrivacy(),  \n",
    ")\n",
    "\n",
    "print(mf_disclosure)\n"
   ],
   "id": "3e9d2d03b4c164a5",
   "outputs": [
    {
     "name": "stderr",
     "output_type": "stream",
     "text": [
      "100%|██████████| 13/13 [00:00<00:00, 35.13it/s]"
     ]
    },
    {
     "name": "stdout",
     "output_type": "stream",
     "text": [
      "# Rows: 891\n",
      "# Columns: 13\n",
      "\n",
      "Column 1: \"PassengerId\"\n",
      "- Variable Type: discrete\n",
      "- Data Type: Int64\n",
      "- Proportion of Missing Values: 0.0000\n",
      "- Distribution:\n",
      "\t- Type: core.normal\n",
      "\t- Provenance: metasyn-disclosure\n",
      "\t- Parameters:\n",
      "\t\t- mean: 446.0\n",
      "\t\t- sd: 257.18994277900265\n",
      "\t\n",
      "\n",
      "Column 2: \"Name\"\n",
      "- Variable Type: string\n",
      "- Data Type: String\n",
      "- Proportion of Missing Values: 0.0000\n",
      "- Distribution:\n",
      "\t- Type: core.freetext\n",
      "\t- Provenance: metasyn-disclosure\n",
      "\t- Parameters:\n",
      "\t\t- locale: EN\n",
      "\t\t- avg_sentences: 2.4691358024691357\n",
      "\t\t- avg_words: 4.093153759820426\n",
      "\t\n",
      "\n",
      "Column 3: \"Sex\"\n",
      "- Variable Type: categorical\n",
      "- Data Type: Categorical(ordering='physical')\n",
      "- Proportion of Missing Values: 0.0000\n",
      "- Distribution:\n",
      "\t- Type: core.multinoulli\n",
      "\t- Provenance: metasyn-disclosure\n",
      "\t- Parameters:\n",
      "\t\t- labels: ['female' 'male']\n",
      "\t\t- probs: [0.35241302 0.64758698]\n",
      "\t\n",
      "\n",
      "Column 4: \"Age\"\n",
      "- Variable Type: discrete\n",
      "- Data Type: Int64\n",
      "- Proportion of Missing Values: 0.1987\n",
      "- Distribution:\n",
      "\t- Type: core.normal\n",
      "\t- Provenance: metasyn-disclosure\n",
      "\t- Parameters:\n",
      "\t\t- mean: 29.689655172413794\n",
      "\t\t- sd: 14.624267616854176\n",
      "\t\n",
      "\n",
      "Column 5: \"Parch\"\n",
      "- Variable Type: discrete\n",
      "- Data Type: Int64\n",
      "- Proportion of Missing Values: 0.0000\n",
      "- Distribution:\n",
      "\t- Type: core.multinoulli\n",
      "\t- Provenance: metasyn-disclosure\n",
      "\t- Parameters:\n",
      "\t\t- labels: [0 1 2]\n",
      "\t\t- probs: [0.7739726 0.1347032 0.0913242]\n",
      "\t\n",
      "\n",
      "Column 6: \"Ticket\"\n",
      "- Variable Type: string\n",
      "- Data Type: String\n",
      "- Proportion of Missing Values: 0.0000\n",
      "- Distribution:\n",
      "\t- Type: core.na\n",
      "\t- Provenance: metasyn-disclosure\n",
      "\t- Parameters:\n",
      "\t\n",
      "\t\n",
      "\n",
      "Column 7: \"Fare\"\n",
      "- Variable Type: continuous\n",
      "- Data Type: Float64\n",
      "- Proportion of Missing Values: 0.0000\n",
      "- Distribution:\n",
      "\t- Type: core.exponential\n",
      "\t- Provenance: metasyn-disclosure\n",
      "\t- Parameters:\n",
      "\t\t- rate: 0.031930518147512243\n",
      "\t\n",
      "\n",
      "Column 8: \"Cabin\"\n",
      "- Variable Type: string\n",
      "- Data Type: String\n",
      "- Proportion of Missing Values: 0.7710\n",
      "- Distribution:\n",
      "\t- Type: core.regex\n",
      "\t- Provenance: builtin\n",
      "\t- Parameters:\n",
      "\t\t- regex: [ABCDEF][0-9]{2,3}\n",
      "\t\n",
      "\n",
      "Column 9: \"Embarked\"\n",
      "- Variable Type: categorical\n",
      "- Data Type: Categorical(ordering='physical')\n",
      "- Proportion of Missing Values: 0.0022\n",
      "- Distribution:\n",
      "\t- Type: core.multinoulli\n",
      "\t- Provenance: metasyn-disclosure\n",
      "\t- Parameters:\n",
      "\t\t- labels: ['C' 'Q' 'S']\n",
      "\t\t- probs: [0.18897638 0.08661417 0.72440945]\n",
      "\t\n",
      "\n",
      "Column 10: \"Birthday\"\n",
      "- Variable Type: date\n",
      "- Data Type: Date\n",
      "- Proportion of Missing Values: 0.0875\n",
      "- Distribution:\n",
      "\t- Type: core.uniform\n",
      "\t- Provenance: metasyn-disclosure\n",
      "\t- Parameters:\n",
      "\t\t- lower: 1903-11-03\n",
      "\t\t- upper: 1940-02-24\n",
      "\t\n",
      "\n",
      "Column 11: \"Board time\"\n",
      "- Variable Type: time\n",
      "- Data Type: Time\n",
      "- Proportion of Missing Values: 0.0887\n",
      "- Distribution:\n",
      "\t- Type: core.uniform\n",
      "\t- Provenance: metasyn-disclosure\n",
      "\t- Parameters:\n",
      "\t\t- lower: 10:41:52\n",
      "\t\t- upper: 18:38:18\n",
      "\t\t- precision: seconds\n",
      "\t\n",
      "\n",
      "Column 12: \"Married since\"\n",
      "- Variable Type: datetime\n",
      "- Data Type: Datetime(time_unit='us', time_zone=None)\n",
      "- Proportion of Missing Values: 0.1033\n",
      "- Distribution:\n",
      "\t- Type: core.uniform\n",
      "\t- Provenance: metasyn-disclosure\n",
      "\t- Parameters:\n",
      "\t\t- lower: 2022-07-15T17:12:24\n",
      "\t\t- upper: 2022-08-15T07:56:54\n",
      "\t\t- precision: seconds\n",
      "\t\n",
      "\n",
      "Column 13: \"all_NA\"\n",
      "- Variable Type: string\n",
      "- Data Type: String\n",
      "- Proportion of Missing Values: 1.0000\n",
      "- Distribution:\n",
      "\t- Type: core.na\n",
      "\t- Provenance: builtin\n",
      "\t- Parameters:\n",
      "\t\n",
      "\t\n",
      "\n",
      "\n"
     ]
    },
    {
     "name": "stderr",
     "output_type": "stream",
     "text": [
      "\n"
     ]
    }
   ],
   "execution_count": 70
  },
  {
   "metadata": {},
   "cell_type": "markdown",
   "source": "As you can see, the 'Cabin' column now has a RegexDistribution, and is no longer NA.",
   "id": "a90d9627fb54fe39"
  },
  {
   "metadata": {},
   "cell_type": "markdown",
   "source": "## Privacy Control for Individual Columns",
   "id": "9c42a00cc48d4f05"
  },
  {
   "metadata": {},
   "cell_type": "markdown",
   "source": [
    "Instead of using disclosure control for the entire MetaFrame, we can also use it for individual columns.  This way, other columns (which might not be supported by the disclosure plugin) can still use the base metasyn distributions.\n",
    "\n",
    "To do so, we have to specify the `privacy` parameter for the variable in the variable specification.\n",
    "\n",
    "We can do this as follows:"
   ],
   "id": "a45c6d62f78366"
  },
  {
   "metadata": {
    "ExecuteTime": {
     "end_time": "2024-06-11T09:24:31.788062Z",
     "start_time": "2024-06-11T09:24:31.786205Z"
    }
   },
   "cell_type": "code",
   "source": [
    "specs_disclosure = [\n",
    "    # Use disclosure control for the 'Married since' column\n",
    "    {\"name\": \"Married since\", \"privacy\": DisclosurePrivacy()}\n",
    "]"
   ],
   "id": "4fdfa80d33117e5e",
   "outputs": [],
   "execution_count": 71
  },
  {
   "metadata": {},
   "cell_type": "markdown",
   "source": [
    "Then, when fitting the MetaFrame, we have to specify the `dist_providers` parameter to include both the \"builtin\" distributions, as well as the diclosure variations. \n",
    "We have to include them both because otherwise the distributions not specified in the var_spec to use the disclosure plugin will give an error. "
   ],
   "id": "a9164491eb00cdd4"
  },
  {
   "metadata": {
    "ExecuteTime": {
     "end_time": "2024-06-11T09:24:32.904706Z",
     "start_time": "2024-06-11T09:24:31.788686Z"
    }
   },
   "cell_type": "code",
   "source": [
    "mf_disclosure_alt = MetaFrame.fit_dataframe(\n",
    "    df=df,\n",
    "    var_specs=specs_disclosure,\n",
    "    dist_providers=[\"builtin\", \"metasyn-disclosure\"]  # Allow for distributions from both the builtin and disclosure plugin\n",
    ")\n",
    "\n",
    "print(\n",
    "    f\"Original Data vs Generative MetaData (for 'Married since' column):\\n\\n\"\n",
    "    f\"Lowest value in source DataFrame: {df['Married since'].min()}\\n\"\n",
    "    f\"Lowest bound in the fitted MetaFrame:  {mf_disclosure_alt['Married since'].distribution.lower}\\n\\n\"\n",
    "    f\"Highest value in source DataFrame: {df['Married since'].max()}\\n\"\n",
    "    f\"Highest bound in the fitted MetaFrame: {mf_disclosure_alt['Married since'].distribution.upper}\"\n",
    ")\n",
    "\n",
    "mf_disclosure_alt.synthesize(5)"
   ],
   "id": "b891be4dd4d13597",
   "outputs": [
    {
     "name": "stderr",
     "output_type": "stream",
     "text": [
      "100%|██████████| 13/13 [00:01<00:00, 11.87it/s]"
     ]
    },
    {
     "name": "stdout",
     "output_type": "stream",
     "text": [
      "Original Data vs Generative MetaData (for 'Married since' column):\n",
      "\n",
      "Lowest value in source DataFrame: 2022-07-15 12:21:15\n",
      "Lowest bound in the fitted MetaFrame:  2022-07-15 17:12:24\n",
      "\n",
      "Highest value in source DataFrame: 2022-08-15 10:32:05\n",
      "Highest bound in the fitted MetaFrame: 2022-08-15 07:56:54\n"
     ]
    },
    {
     "name": "stderr",
     "output_type": "stream",
     "text": [
      "\n"
     ]
    },
    {
     "data": {
      "text/plain": [
       "shape: (5, 13)\n",
       "┌─────────────┬───────────────┬────────┬─────┬───┬────────────┬────────────┬──────────────┬────────┐\n",
       "│ PassengerId ┆ Name          ┆ Sex    ┆ Age ┆ … ┆ Birthday   ┆ Board time ┆ Married      ┆ all_NA │\n",
       "│ ---         ┆ ---           ┆ ---    ┆ --- ┆   ┆ ---        ┆ ---        ┆ since        ┆ ---    │\n",
       "│ i64         ┆ str           ┆ cat    ┆ i64 ┆   ┆ date       ┆ time       ┆ ---          ┆ null   │\n",
       "│             ┆               ┆        ┆     ┆   ┆            ┆            ┆ datetime[μs] ┆        │\n",
       "╞═════════════╪═══════════════╪════════╪═════╪═══╪════════════╪════════════╪══════════════╪════════╡\n",
       "│ 671         ┆ Score. Level. ┆ female ┆ 27  ┆ … ┆ 1910-10-17 ┆ 13:32:43   ┆ 2022-08-06   ┆ null   │\n",
       "│             ┆               ┆        ┆     ┆   ┆            ┆            ┆ 02:00:34     ┆        │\n",
       "│ 376         ┆ Candidate     ┆ female ┆ 16  ┆ … ┆ 1932-03-10 ┆ 17:42:53   ┆ 2022-07-24   ┆ null   │\n",
       "│             ┆ middle.       ┆        ┆     ┆   ┆            ┆            ┆ 19:18:59     ┆        │\n",
       "│             ┆ Reflect.      ┆        ┆     ┆   ┆            ┆            ┆              ┆        │\n",
       "│ 528         ┆ Recognize.    ┆ male   ┆ 34  ┆ … ┆ 1904-11-20 ┆ 17:19:15   ┆ 2022-07-30   ┆ null   │\n",
       "│             ┆               ┆        ┆     ┆   ┆            ┆            ┆ 21:26:37     ┆        │\n",
       "│ 58          ┆ Become.       ┆ male   ┆ 22  ┆ … ┆ 1932-04-29 ┆ null       ┆ 2022-08-01   ┆ null   │\n",
       "│             ┆ School.       ┆        ┆     ┆   ┆            ┆            ┆ 20:56:25     ┆        │\n",
       "│             ┆ Night. Leave. ┆        ┆     ┆   ┆            ┆            ┆              ┆        │\n",
       "│             ┆ …             ┆        ┆     ┆   ┆            ┆            ┆              ┆        │\n",
       "│ 512         ┆ Commercial    ┆ male   ┆ 25  ┆ … ┆ 1913-06-07 ┆ 11:31:47   ┆ 2022-07-23   ┆ null   │\n",
       "│             ┆ forward able. ┆        ┆     ┆   ┆            ┆            ┆ 13:55:52     ┆        │\n",
       "│             ┆ Simil…        ┆        ┆     ┆   ┆            ┆            ┆              ┆        │\n",
       "└─────────────┴───────────────┴────────┴─────┴───┴────────────┴────────────┴──────────────┴────────┘"
      ],
      "text/html": [
       "<div><style>\n",
       ".dataframe > thead > tr,\n",
       ".dataframe > tbody > tr {\n",
       "  text-align: right;\n",
       "  white-space: pre-wrap;\n",
       "}\n",
       "</style>\n",
       "<small>shape: (5, 13)</small><table border=\"1\" class=\"dataframe\"><thead><tr><th>PassengerId</th><th>Name</th><th>Sex</th><th>Age</th><th>Parch</th><th>Ticket</th><th>Fare</th><th>Cabin</th><th>Embarked</th><th>Birthday</th><th>Board time</th><th>Married since</th><th>all_NA</th></tr><tr><td>i64</td><td>str</td><td>cat</td><td>i64</td><td>i64</td><td>str</td><td>f64</td><td>null</td><td>cat</td><td>date</td><td>time</td><td>datetime[μs]</td><td>null</td></tr></thead><tbody><tr><td>671</td><td>&quot;Score. Level.&quot;</td><td>&quot;female&quot;</td><td>27</td><td>0</td><td>&quot;949904&quot;</td><td>18.701995</td><td>null</td><td>&quot;C&quot;</td><td>1910-10-17</td><td>13:32:43</td><td>2022-08-06 02:00:34</td><td>null</td></tr><tr><td>376</td><td>&quot;Candidate middle. Reflect.&quot;</td><td>&quot;female&quot;</td><td>16</td><td>0</td><td>&quot;0719&quot;</td><td>50.066777</td><td>null</td><td>&quot;S&quot;</td><td>1932-03-10</td><td>17:42:53</td><td>2022-07-24 19:18:59</td><td>null</td></tr><tr><td>528</td><td>&quot;Recognize.&quot;</td><td>&quot;male&quot;</td><td>34</td><td>0</td><td>&quot;51255&quot;</td><td>10.739662</td><td>null</td><td>&quot;S&quot;</td><td>1904-11-20</td><td>17:19:15</td><td>2022-07-30 21:26:37</td><td>null</td></tr><tr><td>58</td><td>&quot;Become. School. Night. Leave. …</td><td>&quot;male&quot;</td><td>22</td><td>0</td><td>&quot;35068&quot;</td><td>10.523629</td><td>null</td><td>&quot;S&quot;</td><td>1932-04-29</td><td>null</td><td>2022-08-01 20:56:25</td><td>null</td></tr><tr><td>512</td><td>&quot;Commercial forward able. Simil…</td><td>&quot;male&quot;</td><td>25</td><td>0</td><td>&quot;2976&quot;</td><td>3.724113</td><td>null</td><td>&quot;S&quot;</td><td>1913-06-07</td><td>11:31:47</td><td>2022-07-23 13:55:52</td><td>null</td></tr></tbody></table></div>"
      ]
     },
     "execution_count": 72,
     "metadata": {},
     "output_type": "execute_result"
    }
   ],
   "execution_count": 72
  },
  {
   "metadata": {},
   "cell_type": "markdown",
   "source": "As you can see by the bounds, the disclosure plugin has been applied effectively for the 'Married since' column.",
   "id": "c1fe03c8712b771f"
  },
  {
   "metadata": {},
   "cell_type": "markdown",
   "source": [
    "## Changing the Privacy Level\n",
    "\n",
    "By default, the disclosure privacy partition size is set to 11.  This partition size determines how data is grouped for privacy protection. Data is grouped into partitions of (at least) the specified size, and the mean of each group is then used. A larger partition size increases privacy but may reduce data utility, while a smaller partition size may increase utility but decrease privacy.\n",
    "\n",
    "The partition size can be changed by specifying the `partition_size` parameter in the `DisclosurePrivacy` class. This can be done either for the entire MetaFrame, or for individual columns.\n",
    "\n",
    "When using the plugin for the entire MetaFrame, the syntax is as follows:"
   ],
   "id": "344e7d22c77a3f6a"
  },
  {
   "metadata": {
    "ExecuteTime": {
     "end_time": "2024-06-11T09:24:33.390199Z",
     "start_time": "2024-06-11T09:24:32.905465Z"
    }
   },
   "cell_type": "code",
   "source": [
    "mf = MetaFrame.fit_dataframe(\n",
    "    df=df,\n",
    "    dist_providers=\"metasyn-disclosure\",  \n",
    "    privacy=DisclosurePrivacy(partition_size=5),  # Set the partition size to 5\n",
    ")"
   ],
   "id": "33c14ee86b5d737b",
   "outputs": [
    {
     "name": "stderr",
     "output_type": "stream",
     "text": [
      "100%|██████████| 13/13 [00:00<00:00, 27.34it/s]\n"
     ]
    }
   ],
   "execution_count": 73
  },
  {
   "metadata": {},
   "cell_type": "markdown",
   "source": "When using the plugin for individual columns, the syntax is as follows:",
   "id": "350d6e9caabf7a5a"
  },
  {
   "metadata": {
    "ExecuteTime": {
     "end_time": "2024-06-11T09:24:34.414742Z",
     "start_time": "2024-06-11T09:24:33.391877Z"
    }
   },
   "cell_type": "code",
   "source": [
    "specs = [\n",
    "    {\"name\": \"Married since\", \"privacy\": DisclosurePrivacy(partition_size=5)},\n",
    "]\n",
    "\n",
    "mf = MetaFrame.fit_dataframe(\n",
    "    df=df,\n",
    "    var_specs=specs,\n",
    "    dist_providers=[\"builtin\", \"metasyn-disclosure\"]  # Allow for distributions from both the builtin and disclosure plugin\n",
    ")"
   ],
   "id": "bc6d5b988f0b6214",
   "outputs": [
    {
     "name": "stderr",
     "output_type": "stream",
     "text": [
      "100%|██████████| 13/13 [00:01<00:00, 12.89it/s]\n"
     ]
    }
   ],
   "execution_count": 74
  },
  {
   "metadata": {},
   "cell_type": "markdown",
   "source": [
    "# Conclusion\n",
    "That covers the basics of using the disclosure control plugin. If you have any questions, or encounter an issue, please feel free to reach out to us on our [GitHub page](https://github.com/sodascience/metasyn-disclosure-control)"
   ],
   "id": "814ff33d80af6786"
  },
  {
   "metadata": {
    "ExecuteTime": {
     "end_time": "2024-06-11T09:24:34.416820Z",
     "start_time": "2024-06-11T09:24:34.415431Z"
    }
   },
   "cell_type": "code",
   "source": "",
   "id": "a97840d7666dbc4f",
   "outputs": [],
   "execution_count": 74
  }
 ],
 "metadata": {
  "kernelspec": {
   "display_name": "Python 3 (ipykernel)",
   "language": "python",
   "name": "python3"
  },
  "language_info": {
   "codemirror_mode": {
    "name": "ipython",
    "version": 3
   },
   "file_extension": ".py",
   "mimetype": "text/x-python",
   "name": "python",
   "nbconvert_exporter": "python",
   "pygments_lexer": "ipython3",
   "version": "3.11.6"
  },
  "vscode": {
   "interpreter": {
    "hash": "fdb1107d616260949a63e5f4e2c5568939cf2f2c0d0d70930ae22d4d9fd1a8a0"
   }
  }
 },
 "nbformat": 4,
 "nbformat_minor": 5
}
